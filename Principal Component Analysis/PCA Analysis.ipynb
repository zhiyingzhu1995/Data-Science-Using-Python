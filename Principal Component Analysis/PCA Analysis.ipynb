{
 "cells": [
  {
   "cell_type": "markdown",
   "metadata": {},
   "source": [
    "# Principal Component Analysis (PCA) for Data Visualization"
   ]
  },
  {
   "cell_type": "markdown",
   "metadata": {},
   "source": [
    "**Instruction**\n",
    "- Use the Automobile Data Set already downloaded from this website \"http://archive.ics.uci.edu/ml/datasets/Automobile![image.png(attachment:image.png)\"           \n",
    "(can be found in the same folder as this Jupyter notebook)\n",
    "- Find the highest Principal Component Axis\n",
    "- Visualize the two highest Principal Component Axis using scatterplots"
   ]
  },
  {
   "cell_type": "markdown",
   "metadata": {},
   "source": [
    "**Plan of Attack**\n",
    "1. Import and convert the Json file into workable format\n",
    "2. Do an EDA on the data and select the quantitative variables for PCA analysis\n",
    "3. Standardize each numerical attribute to have a mean = 0 and variance = 1\n",
    "4. Visualize the PC and % explained variance \n",
    "5. Visualize the data using the two highest PCs using scatterplot"
   ]
  },
  {
   "cell_type": "markdown",
   "metadata": {},
   "source": [
    "## Import Packages and Data"
   ]
  },
  {
   "cell_type": "code",
   "execution_count": 329,
   "metadata": {
    "ExecuteTime": {
     "end_time": "2020-10-10T03:46:18.145001Z",
     "start_time": "2020-10-10T03:46:17.754944Z"
    }
   },
   "outputs": [],
   "source": [
    "import pandas as pd\n",
    "import numpy as np\n",
    "from sklearn.preprocessing import StandardScaler\n",
    "from sklearn.decomposition import PCA\n",
    "import matplotlib.pyplot as plt\n",
    "import seaborn as sns"
   ]
  },
  {
   "cell_type": "code",
   "execution_count": 79,
   "metadata": {
    "ExecuteTime": {
     "end_time": "2020-10-10T00:38:22.484613Z",
     "start_time": "2020-10-10T00:38:22.471201Z"
    },
    "code_folding": []
   },
   "outputs": [],
   "source": [
    "path = \"./imports-85.data\"\n",
    "colnames = [\"symboling\",\"normalized-losses\",\"make\",\"fuel-type\",\"aspiration\",\"num-of-doors\",\n",
    "            \"body-style\",\"drive-wheels\",\"engine-location\",\"wheel-base\",\"length\",\"width\",\"height\",\n",
    "            \"curb-weight\",\"engine-type\",\"num-of-cylinders\",\"engine-size\",\"fuel-system\",\"bore\",\"stroke\",\n",
    "            \"compression-ratio\",\"horsepower\",\"peak-rpm\",\"city-mpg\",\"highway-mpg\",\"price\"]\n",
    "\n",
    "data = pd.read_csv(path, names = colnames)"
   ]
  },
  {
   "cell_type": "code",
   "execution_count": 80,
   "metadata": {
    "ExecuteTime": {
     "end_time": "2020-10-10T00:38:23.393460Z",
     "start_time": "2020-10-10T00:38:23.382600Z"
    }
   },
   "outputs": [
    {
     "name": "stdout",
     "output_type": "stream",
     "text": [
      "<class 'pandas.core.frame.DataFrame'>\n",
      "RangeIndex: 205 entries, 0 to 204\n",
      "Data columns (total 26 columns):\n",
      "symboling            205 non-null int64\n",
      "normalized-losses    205 non-null object\n",
      "make                 205 non-null object\n",
      "fuel-type            205 non-null object\n",
      "aspiration           205 non-null object\n",
      "num-of-doors         205 non-null object\n",
      "body-style           205 non-null object\n",
      "drive-wheels         205 non-null object\n",
      "engine-location      205 non-null object\n",
      "wheel-base           205 non-null float64\n",
      "length               205 non-null float64\n",
      "width                205 non-null float64\n",
      "height               205 non-null float64\n",
      "curb-weight          205 non-null int64\n",
      "engine-type          205 non-null object\n",
      "num-of-cylinders     205 non-null object\n",
      "engine-size          205 non-null int64\n",
      "fuel-system          205 non-null object\n",
      "bore                 205 non-null object\n",
      "stroke               205 non-null object\n",
      "compression-ratio    205 non-null float64\n",
      "horsepower           205 non-null object\n",
      "peak-rpm             205 non-null object\n",
      "city-mpg             205 non-null int64\n",
      "highway-mpg          205 non-null int64\n",
      "price                205 non-null object\n",
      "dtypes: float64(5), int64(5), object(16)\n",
      "memory usage: 41.7+ KB\n",
      "None\n"
     ]
    }
   ],
   "source": [
    "print(data.info())"
   ]
  },
  {
   "cell_type": "markdown",
   "metadata": {
    "heading_collapsed": true
   },
   "source": [
    "## Do EDA and select quantitative variables"
   ]
  },
  {
   "cell_type": "code",
   "execution_count": 231,
   "metadata": {
    "ExecuteTime": {
     "end_time": "2020-10-10T03:03:10.105635Z",
     "start_time": "2020-10-10T03:03:10.099046Z"
    },
    "hidden": true
   },
   "outputs": [],
   "source": [
    "#get a list of attributes with just numerical data and exclude \"object\" type\n",
    "numeric_cols = [name for name in data.columns if data[name].dtype != 'O'] \n",
    "num_data = data.loc[:,numeric_cols]"
   ]
  },
  {
   "cell_type": "code",
   "execution_count": 232,
   "metadata": {
    "ExecuteTime": {
     "end_time": "2020-10-10T03:03:10.367653Z",
     "start_time": "2020-10-10T03:03:10.354045Z"
    },
    "hidden": true
   },
   "outputs": [
    {
     "name": "stdout",
     "output_type": "stream",
     "text": [
      "<class 'pandas.core.frame.DataFrame'>\n",
      "RangeIndex: 205 entries, 0 to 204\n",
      "Data columns (total 10 columns):\n",
      "symboling            205 non-null int64\n",
      "wheel-base           205 non-null float64\n",
      "length               205 non-null float64\n",
      "width                205 non-null float64\n",
      "height               205 non-null float64\n",
      "curb-weight          205 non-null int64\n",
      "engine-size          205 non-null int64\n",
      "compression-ratio    205 non-null float64\n",
      "city-mpg             205 non-null int64\n",
      "highway-mpg          205 non-null int64\n",
      "dtypes: float64(5), int64(5)\n",
      "memory usage: 16.1 KB\n"
     ]
    }
   ],
   "source": [
    "#Don't see any missing values, Good to go\n",
    "num_data.info()"
   ]
  },
  {
   "cell_type": "code",
   "execution_count": 277,
   "metadata": {
    "ExecuteTime": {
     "end_time": "2020-10-10T03:13:12.342568Z",
     "start_time": "2020-10-10T03:13:12.328313Z"
    },
    "hidden": true
   },
   "outputs": [
    {
     "data": {
      "text/html": [
       "<div>\n",
       "<style scoped>\n",
       "    .dataframe tbody tr th:only-of-type {\n",
       "        vertical-align: middle;\n",
       "    }\n",
       "\n",
       "    .dataframe tbody tr th {\n",
       "        vertical-align: top;\n",
       "    }\n",
       "\n",
       "    .dataframe thead th {\n",
       "        text-align: right;\n",
       "    }\n",
       "</style>\n",
       "<table border=\"1\" class=\"dataframe\">\n",
       "  <thead>\n",
       "    <tr style=\"text-align: right;\">\n",
       "      <th></th>\n",
       "      <th>symboling</th>\n",
       "      <th>wheel-base</th>\n",
       "      <th>length</th>\n",
       "      <th>width</th>\n",
       "      <th>height</th>\n",
       "      <th>curb-weight</th>\n",
       "      <th>engine-size</th>\n",
       "      <th>compression-ratio</th>\n",
       "      <th>city-mpg</th>\n",
       "      <th>highway-mpg</th>\n",
       "    </tr>\n",
       "  </thead>\n",
       "  <tbody>\n",
       "    <tr>\n",
       "      <th>0</th>\n",
       "      <td>3</td>\n",
       "      <td>88.6</td>\n",
       "      <td>168.8</td>\n",
       "      <td>64.1</td>\n",
       "      <td>48.8</td>\n",
       "      <td>2548</td>\n",
       "      <td>130</td>\n",
       "      <td>9.0</td>\n",
       "      <td>21</td>\n",
       "      <td>27</td>\n",
       "    </tr>\n",
       "    <tr>\n",
       "      <th>1</th>\n",
       "      <td>3</td>\n",
       "      <td>88.6</td>\n",
       "      <td>168.8</td>\n",
       "      <td>64.1</td>\n",
       "      <td>48.8</td>\n",
       "      <td>2548</td>\n",
       "      <td>130</td>\n",
       "      <td>9.0</td>\n",
       "      <td>21</td>\n",
       "      <td>27</td>\n",
       "    </tr>\n",
       "    <tr>\n",
       "      <th>2</th>\n",
       "      <td>1</td>\n",
       "      <td>94.5</td>\n",
       "      <td>171.2</td>\n",
       "      <td>65.5</td>\n",
       "      <td>52.4</td>\n",
       "      <td>2823</td>\n",
       "      <td>152</td>\n",
       "      <td>9.0</td>\n",
       "      <td>19</td>\n",
       "      <td>26</td>\n",
       "    </tr>\n",
       "    <tr>\n",
       "      <th>3</th>\n",
       "      <td>2</td>\n",
       "      <td>99.8</td>\n",
       "      <td>176.6</td>\n",
       "      <td>66.2</td>\n",
       "      <td>54.3</td>\n",
       "      <td>2337</td>\n",
       "      <td>109</td>\n",
       "      <td>10.0</td>\n",
       "      <td>24</td>\n",
       "      <td>30</td>\n",
       "    </tr>\n",
       "    <tr>\n",
       "      <th>4</th>\n",
       "      <td>2</td>\n",
       "      <td>99.4</td>\n",
       "      <td>176.6</td>\n",
       "      <td>66.4</td>\n",
       "      <td>54.3</td>\n",
       "      <td>2824</td>\n",
       "      <td>136</td>\n",
       "      <td>8.0</td>\n",
       "      <td>18</td>\n",
       "      <td>22</td>\n",
       "    </tr>\n",
       "  </tbody>\n",
       "</table>\n",
       "</div>"
      ],
      "text/plain": [
       "   symboling  wheel-base  length  width  height  curb-weight  engine-size  \\\n",
       "0          3        88.6   168.8   64.1    48.8         2548          130   \n",
       "1          3        88.6   168.8   64.1    48.8         2548          130   \n",
       "2          1        94.5   171.2   65.5    52.4         2823          152   \n",
       "3          2        99.8   176.6   66.2    54.3         2337          109   \n",
       "4          2        99.4   176.6   66.4    54.3         2824          136   \n",
       "\n",
       "   compression-ratio  city-mpg  highway-mpg  \n",
       "0                9.0        21           27  \n",
       "1                9.0        21           27  \n",
       "2                9.0        19           26  \n",
       "3               10.0        24           30  \n",
       "4                8.0        18           22  "
      ]
     },
     "execution_count": 277,
     "metadata": {},
     "output_type": "execute_result"
    }
   ],
   "source": [
    "num_data.head(5)"
   ]
  },
  {
   "cell_type": "code",
   "execution_count": 322,
   "metadata": {
    "ExecuteTime": {
     "end_time": "2020-10-10T03:41:01.203301Z",
     "start_time": "2020-10-10T03:41:01.197789Z"
    },
    "hidden": true
   },
   "outputs": [
    {
     "data": {
      "text/plain": [
       "(205, 10)"
      ]
     },
     "execution_count": 322,
     "metadata": {},
     "output_type": "execute_result"
    }
   ],
   "source": [
    "num_data.shape"
   ]
  },
  {
   "cell_type": "markdown",
   "metadata": {
    "heading_collapsed": true
   },
   "source": [
    "## Standardize the selected attributes"
   ]
  },
  {
   "cell_type": "code",
   "execution_count": 260,
   "metadata": {
    "ExecuteTime": {
     "end_time": "2020-10-10T03:06:34.522599Z",
     "start_time": "2020-10-10T03:06:34.517378Z"
    },
    "hidden": true
   },
   "outputs": [],
   "source": [
    "#create a standard scaler for standardization\n",
    "scaler = StandardScaler()\n",
    "\n",
    "#need to input the data as nparray into the standardizer \n",
    "x = scaler.fit_transform(num_data.values)"
   ]
  },
  {
   "cell_type": "code",
   "execution_count": 306,
   "metadata": {
    "ExecuteTime": {
     "end_time": "2020-10-10T03:30:36.171970Z",
     "start_time": "2020-10-10T03:30:36.153142Z"
    },
    "hidden": true
   },
   "outputs": [
    {
     "data": {
      "text/html": [
       "<div>\n",
       "<style scoped>\n",
       "    .dataframe tbody tr th:only-of-type {\n",
       "        vertical-align: middle;\n",
       "    }\n",
       "\n",
       "    .dataframe tbody tr th {\n",
       "        vertical-align: top;\n",
       "    }\n",
       "\n",
       "    .dataframe thead th {\n",
       "        text-align: right;\n",
       "    }\n",
       "</style>\n",
       "<table border=\"1\" class=\"dataframe\">\n",
       "  <thead>\n",
       "    <tr style=\"text-align: right;\">\n",
       "      <th></th>\n",
       "      <th>symboling</th>\n",
       "      <th>wheel-base</th>\n",
       "      <th>length</th>\n",
       "      <th>width</th>\n",
       "      <th>height</th>\n",
       "      <th>curb-weight</th>\n",
       "      <th>engine-size</th>\n",
       "      <th>compression-ratio</th>\n",
       "      <th>city-mpg</th>\n",
       "      <th>highway-mpg</th>\n",
       "    </tr>\n",
       "  </thead>\n",
       "  <tbody>\n",
       "    <tr>\n",
       "      <th>0</th>\n",
       "      <td>1.743470</td>\n",
       "      <td>-1.690772</td>\n",
       "      <td>-0.426521</td>\n",
       "      <td>-0.844782</td>\n",
       "      <td>-2.020417</td>\n",
       "      <td>-0.014566</td>\n",
       "      <td>0.074449</td>\n",
       "      <td>-0.288349</td>\n",
       "      <td>-0.646553</td>\n",
       "      <td>-0.546059</td>\n",
       "    </tr>\n",
       "    <tr>\n",
       "      <th>1</th>\n",
       "      <td>1.743470</td>\n",
       "      <td>-1.690772</td>\n",
       "      <td>-0.426521</td>\n",
       "      <td>-0.844782</td>\n",
       "      <td>-2.020417</td>\n",
       "      <td>-0.014566</td>\n",
       "      <td>0.074449</td>\n",
       "      <td>-0.288349</td>\n",
       "      <td>-0.646553</td>\n",
       "      <td>-0.546059</td>\n",
       "    </tr>\n",
       "    <tr>\n",
       "      <th>2</th>\n",
       "      <td>0.133509</td>\n",
       "      <td>-0.708596</td>\n",
       "      <td>-0.231513</td>\n",
       "      <td>-0.190566</td>\n",
       "      <td>-0.543527</td>\n",
       "      <td>0.514882</td>\n",
       "      <td>0.604046</td>\n",
       "      <td>-0.288349</td>\n",
       "      <td>-0.953012</td>\n",
       "      <td>-0.691627</td>\n",
       "    </tr>\n",
       "    <tr>\n",
       "      <th>3</th>\n",
       "      <td>0.938490</td>\n",
       "      <td>0.173698</td>\n",
       "      <td>0.207256</td>\n",
       "      <td>0.136542</td>\n",
       "      <td>0.235942</td>\n",
       "      <td>-0.420797</td>\n",
       "      <td>-0.431076</td>\n",
       "      <td>-0.035973</td>\n",
       "      <td>-0.186865</td>\n",
       "      <td>-0.109354</td>\n",
       "    </tr>\n",
       "    <tr>\n",
       "      <th>4</th>\n",
       "      <td>0.938490</td>\n",
       "      <td>0.107110</td>\n",
       "      <td>0.207256</td>\n",
       "      <td>0.230001</td>\n",
       "      <td>0.235942</td>\n",
       "      <td>0.516807</td>\n",
       "      <td>0.218885</td>\n",
       "      <td>-0.540725</td>\n",
       "      <td>-1.106241</td>\n",
       "      <td>-1.273900</td>\n",
       "    </tr>\n",
       "  </tbody>\n",
       "</table>\n",
       "</div>"
      ],
      "text/plain": [
       "   symboling  wheel-base    length     width    height  curb-weight  \\\n",
       "0   1.743470   -1.690772 -0.426521 -0.844782 -2.020417    -0.014566   \n",
       "1   1.743470   -1.690772 -0.426521 -0.844782 -2.020417    -0.014566   \n",
       "2   0.133509   -0.708596 -0.231513 -0.190566 -0.543527     0.514882   \n",
       "3   0.938490    0.173698  0.207256  0.136542  0.235942    -0.420797   \n",
       "4   0.938490    0.107110  0.207256  0.230001  0.235942     0.516807   \n",
       "\n",
       "   engine-size  compression-ratio  city-mpg  highway-mpg  \n",
       "0     0.074449          -0.288349 -0.646553    -0.546059  \n",
       "1     0.074449          -0.288349 -0.646553    -0.546059  \n",
       "2     0.604046          -0.288349 -0.953012    -0.691627  \n",
       "3    -0.431076          -0.035973 -0.186865    -0.109354  \n",
       "4     0.218885          -0.540725 -1.106241    -1.273900  "
      ]
     },
     "execution_count": 306,
     "metadata": {},
     "output_type": "execute_result"
    }
   ],
   "source": [
    "#view the standardized data using pandas\n",
    "pd.DataFrame(x, columns = numeric_cols ).head(5)"
   ]
  },
  {
   "cell_type": "markdown",
   "metadata": {},
   "source": [
    "## Visualize PCA and Explained Variance "
   ]
  },
  {
   "cell_type": "code",
   "execution_count": 262,
   "metadata": {
    "ExecuteTime": {
     "end_time": "2020-10-10T03:06:36.126028Z",
     "start_time": "2020-10-10T03:06:36.121676Z"
    }
   },
   "outputs": [],
   "source": [
    "#start a PCA o\n",
    "pca = PCA()\n",
    "\n",
    "#calculate the principal components\n",
    "fitted_pca = pca.fit_transform(x)"
   ]
  },
  {
   "cell_type": "code",
   "execution_count": 296,
   "metadata": {
    "ExecuteTime": {
     "end_time": "2020-10-10T03:24:03.780533Z",
     "start_time": "2020-10-10T03:24:03.774701Z"
    }
   },
   "outputs": [
    {
     "data": {
      "text/plain": [
       "10"
      ]
     },
     "execution_count": 296,
     "metadata": {},
     "output_type": "execute_result"
    }
   ],
   "source": [
    "#there are 10 principal components\n",
    "fitted_pca.shape[1]"
   ]
  },
  {
   "cell_type": "code",
   "execution_count": 310,
   "metadata": {
    "ExecuteTime": {
     "end_time": "2020-10-10T03:31:05.183266Z",
     "start_time": "2020-10-10T03:31:05.167644Z"
    }
   },
   "outputs": [
    {
     "data": {
      "text/html": [
       "<div>\n",
       "<style scoped>\n",
       "    .dataframe tbody tr th:only-of-type {\n",
       "        vertical-align: middle;\n",
       "    }\n",
       "\n",
       "    .dataframe tbody tr th {\n",
       "        vertical-align: top;\n",
       "    }\n",
       "\n",
       "    .dataframe thead th {\n",
       "        text-align: right;\n",
       "    }\n",
       "</style>\n",
       "<table border=\"1\" class=\"dataframe\">\n",
       "  <thead>\n",
       "    <tr style=\"text-align: right;\">\n",
       "      <th></th>\n",
       "      <th>Principal Component 1</th>\n",
       "      <th>Principal Component 2</th>\n",
       "      <th>Principal Component 3</th>\n",
       "      <th>Principal Component 4</th>\n",
       "      <th>Principal Component 5</th>\n",
       "      <th>Principal Component 6</th>\n",
       "      <th>Principal Component 7</th>\n",
       "      <th>Principal Component 8</th>\n",
       "      <th>Principal Component 9</th>\n",
       "      <th>Principal Component 10</th>\n",
       "    </tr>\n",
       "  </thead>\n",
       "  <tbody>\n",
       "    <tr>\n",
       "      <th>0</th>\n",
       "      <td>-1.283523</td>\n",
       "      <td>-2.835866</td>\n",
       "      <td>1.022796</td>\n",
       "      <td>-0.065830</td>\n",
       "      <td>-0.446345</td>\n",
       "      <td>-0.638250</td>\n",
       "      <td>-0.315165</td>\n",
       "      <td>-0.453652</td>\n",
       "      <td>0.132602</td>\n",
       "      <td>0.108899</td>\n",
       "    </tr>\n",
       "    <tr>\n",
       "      <th>1</th>\n",
       "      <td>-1.283523</td>\n",
       "      <td>-2.835866</td>\n",
       "      <td>1.022796</td>\n",
       "      <td>-0.065830</td>\n",
       "      <td>-0.446345</td>\n",
       "      <td>-0.638250</td>\n",
       "      <td>-0.315165</td>\n",
       "      <td>-0.453652</td>\n",
       "      <td>0.132602</td>\n",
       "      <td>0.108899</td>\n",
       "    </tr>\n",
       "    <tr>\n",
       "      <th>2</th>\n",
       "      <td>0.429662</td>\n",
       "      <td>-1.351623</td>\n",
       "      <td>0.022545</td>\n",
       "      <td>0.290155</td>\n",
       "      <td>-0.138992</td>\n",
       "      <td>-0.892448</td>\n",
       "      <td>0.198209</td>\n",
       "      <td>-0.104467</td>\n",
       "      <td>0.136265</td>\n",
       "      <td>-0.155644</td>\n",
       "    </tr>\n",
       "    <tr>\n",
       "      <th>3</th>\n",
       "      <td>-0.111933</td>\n",
       "      <td>-0.292705</td>\n",
       "      <td>0.090390</td>\n",
       "      <td>-0.997752</td>\n",
       "      <td>-0.078539</td>\n",
       "      <td>0.470102</td>\n",
       "      <td>-0.085995</td>\n",
       "      <td>0.053258</td>\n",
       "      <td>-0.316107</td>\n",
       "      <td>-0.008032</td>\n",
       "    </tr>\n",
       "    <tr>\n",
       "      <th>4</th>\n",
       "      <td>1.197674</td>\n",
       "      <td>-1.387291</td>\n",
       "      <td>-0.258406</td>\n",
       "      <td>-0.952451</td>\n",
       "      <td>-0.102837</td>\n",
       "      <td>-0.247589</td>\n",
       "      <td>0.080465</td>\n",
       "      <td>0.266806</td>\n",
       "      <td>0.044176</td>\n",
       "      <td>0.115372</td>\n",
       "    </tr>\n",
       "  </tbody>\n",
       "</table>\n",
       "</div>"
      ],
      "text/plain": [
       "   Principal Component 1  Principal Component 2  Principal Component 3  \\\n",
       "0              -1.283523              -2.835866               1.022796   \n",
       "1              -1.283523              -2.835866               1.022796   \n",
       "2               0.429662              -1.351623               0.022545   \n",
       "3              -0.111933              -0.292705               0.090390   \n",
       "4               1.197674              -1.387291              -0.258406   \n",
       "\n",
       "   Principal Component 4  Principal Component 5  Principal Component 6  \\\n",
       "0              -0.065830              -0.446345              -0.638250   \n",
       "1              -0.065830              -0.446345              -0.638250   \n",
       "2               0.290155              -0.138992              -0.892448   \n",
       "3              -0.997752              -0.078539               0.470102   \n",
       "4              -0.952451              -0.102837              -0.247589   \n",
       "\n",
       "   Principal Component 7  Principal Component 8  Principal Component 9  \\\n",
       "0              -0.315165              -0.453652               0.132602   \n",
       "1              -0.315165              -0.453652               0.132602   \n",
       "2               0.198209              -0.104467               0.136265   \n",
       "3              -0.085995               0.053258              -0.316107   \n",
       "4               0.080465               0.266806               0.044176   \n",
       "\n",
       "   Principal Component 10  \n",
       "0                0.108899  \n",
       "1                0.108899  \n",
       "2               -0.155644  \n",
       "3               -0.008032  \n",
       "4                0.115372  "
      ]
     },
     "execution_count": 310,
     "metadata": {},
     "output_type": "execute_result"
    }
   ],
   "source": [
    "#print the computed PCA\n",
    "pca_df = pd.DataFrame(data = fitted_pca, columns = [\"Principal Component \"+ str(i) for i in range(1,11)])\n",
    "pca_df.head(5)"
   ]
  },
  {
   "cell_type": "code",
   "execution_count": 318,
   "metadata": {
    "ExecuteTime": {
     "end_time": "2020-10-10T03:35:51.127757Z",
     "start_time": "2020-10-10T03:35:50.875735Z"
    }
   },
   "outputs": [
    {
     "data": {
      "image/png": "[encoded data removed]",
      "text/plain": [
       "<Figure size 864x288 with 2 Axes>"
      ]
     },
     "metadata": {
      "needs_background": "light"
     },
     "output_type": "display_data"
    }
   ],
   "source": [
    "%matplotlib inline\n",
    "\n",
    "#graph the calculated PCA explained variance ratio\n",
    "y_1 = pca.fit(x).explained_variance_ratio_\n",
    "x_1 = range(1,len(y)+1)\n",
    "\n",
    "fig,[ax1,ax2] = plt.subplots(ncols=2, figsize=(12,4))\n",
    "\n",
    "#plot the individual PCA graph\n",
    "ax1.plot(x_1,y_1, marker = \"o\", color = 'r')\n",
    "ax1.set_xticks(range(1,len(y_1)+1))\n",
    "ax1.set_yticks(np.arange(0,1, step = 0.1))\n",
    "ax1.set_xlabel(\"Number of Principal Component\")\n",
    "ax1.set_ylabel(\"Explained Variance\")\n",
    "ax1.set_title(\"PCA Analysis\")\n",
    "#annotate the points\n",
    "for i,j in zip(x_1,y_1):\n",
    "    num = np.round(j,decimals=3)\n",
    "    ax1.annotate(str(num),xy=(i+0.05,j+0.01))\n",
    "\n",
    "    \n",
    "#plot the cumulative PCA graph\n",
    "y_2 = pca.fit(x).explained_variance_ratio_.cumsum()\n",
    "\n",
    "ax2.plot(x_1,y_2, marker = \"o\", color = 'g')\n",
    "ax2.set_xticks(range(1,len(y_2)+1))\n",
    "ax2.set_yticks(np.arange(0.2,1.3, step = 0.2))\n",
    "ax2.set_xlabel(\"Number of Principal Component\")\n",
    "ax2.set_ylabel(\"Cumulative Explained Variance\")\n",
    "ax2.set_title(\"PCA Analysis\")\n",
    "#annotate the points\n",
    "for i,j in zip(x_1,y_2):\n",
    "    num = np.round(j,decimals=3)\n",
    "    ax2.annotate(str(num),xy=(i+0.05,j-0.04))\n",
    "  \n",
    "\n",
    "\n",
    "plt.show()"
   ]
  },
  {
   "cell_type": "markdown",
   "metadata": {},
   "source": [
    "## Visualize the 2 Highest PC using scatterplots"
   ]
  },
  {
   "cell_type": "code",
   "execution_count": 346,
   "metadata": {
    "ExecuteTime": {
     "end_time": "2020-10-10T03:52:11.037743Z",
     "start_time": "2020-10-10T03:52:11.025568Z"
    }
   },
   "outputs": [
    {
     "data": {
      "text/html": [
       "<div>\n",
       "<style scoped>\n",
       "    .dataframe tbody tr th:only-of-type {\n",
       "        vertical-align: middle;\n",
       "    }\n",
       "\n",
       "    .dataframe tbody tr th {\n",
       "        vertical-align: top;\n",
       "    }\n",
       "\n",
       "    .dataframe thead th {\n",
       "        text-align: right;\n",
       "    }\n",
       "</style>\n",
       "<table border=\"1\" class=\"dataframe\">\n",
       "  <thead>\n",
       "    <tr style=\"text-align: right;\">\n",
       "      <th></th>\n",
       "      <th>Principal Component 1</th>\n",
       "      <th>Principal Component 2</th>\n",
       "      <th>fuel-type</th>\n",
       "    </tr>\n",
       "  </thead>\n",
       "  <tbody>\n",
       "    <tr>\n",
       "      <th>0</th>\n",
       "      <td>-1.283523</td>\n",
       "      <td>-2.835866</td>\n",
       "      <td>gas</td>\n",
       "    </tr>\n",
       "    <tr>\n",
       "      <th>1</th>\n",
       "      <td>-1.283523</td>\n",
       "      <td>-2.835866</td>\n",
       "      <td>gas</td>\n",
       "    </tr>\n",
       "    <tr>\n",
       "      <th>2</th>\n",
       "      <td>0.429662</td>\n",
       "      <td>-1.351623</td>\n",
       "      <td>gas</td>\n",
       "    </tr>\n",
       "    <tr>\n",
       "      <th>3</th>\n",
       "      <td>-0.111933</td>\n",
       "      <td>-0.292705</td>\n",
       "      <td>gas</td>\n",
       "    </tr>\n",
       "    <tr>\n",
       "      <th>4</th>\n",
       "      <td>1.197674</td>\n",
       "      <td>-1.387291</td>\n",
       "      <td>gas</td>\n",
       "    </tr>\n",
       "  </tbody>\n",
       "</table>\n",
       "</div>"
      ],
      "text/plain": [
       "   Principal Component 1  Principal Component 2 fuel-type\n",
       "0              -1.283523              -2.835866       gas\n",
       "1              -1.283523              -2.835866       gas\n",
       "2               0.429662              -1.351623       gas\n",
       "3              -0.111933              -0.292705       gas\n",
       "4               1.197674              -1.387291       gas"
      ]
     },
     "execution_count": 346,
     "metadata": {},
     "output_type": "execute_result"
    }
   ],
   "source": [
    "#select the highest 2 PC and add the \"fuel-type\"\n",
    "top_2_pca = pca_df.iloc[:,:2].join(data.loc[:,'fuel-type'])\n",
    "top_2_pca.head(5)"
   ]
  },
  {
   "cell_type": "code",
   "execution_count": 354,
   "metadata": {
    "ExecuteTime": {
     "end_time": "2020-10-10T03:56:46.519350Z",
     "start_time": "2020-10-10T03:56:46.327099Z"
    }
   },
   "outputs": [
    {
     "data": {
      "image/png": "[encoded data removed]",
      "text/plain": [
       "<Figure size 576x576 with 1 Axes>"
      ]
     },
     "metadata": {
      "needs_background": "light"
     },
     "output_type": "display_data"
    }
   ],
   "source": [
    "#plot the highest 2 principal components, group by fuel-type\n",
    "\n",
    "fig = plt.figure(figsize = (8,8))\n",
    "ax = fig.add_subplot(1,1,1) \n",
    "\n",
    "sns.scatterplot(data=top_2_pca,\n",
    "            x =\"Principal Component 1\",\n",
    "            y =\"Principal Component 2\",\n",
    "            hue = \"fuel-type\",\n",
    "            alpha = 0.4,\n",
    "            ax = ax\n",
    "           )\n",
    "ax.set_title(\"Two Component PCA\", fontsize = 20)\n",
    "plt.show()\n"
   ]
  },
  {
   "cell_type": "markdown",
   "metadata": {
    "ExecuteTime": {
     "end_time": "2020-10-10T03:46:32.201805Z",
     "start_time": "2020-10-10T03:46:32.192226Z"
    }
   },
   "source": [
    "## **Comments**\n",
    "- The two fuel type seems to be well separated by the 2 principal components! "
   ]
  }
 ],
 "metadata": {
  "hide_input": false,
  "kernelspec": {
   "display_name": "Python 3",
   "language": "python",
   "name": "python3"
  },
  "language_info": {
   "codemirror_mode": {
    "name": "ipython",
    "version": 3
   },
   "file_extension": ".py",
   "mimetype": "text/x-python",
   "name": "python",
   "nbconvert_exporter": "python",
   "pygments_lexer": "ipython3",
   "version": "3.7.3"
  },
  "toc": {
   "base_numbering": 1,
   "nav_menu": {},
   "number_sections": true,
   "sideBar": true,
   "skip_h1_title": false,
   "title_cell": "Table of Contents",
   "title_sidebar": "Contents",
   "toc_cell": false,
   "toc_position": {},
   "toc_section_display": true,
   "toc_window_display": true
  }
 },
 "nbformat": 4,
 "nbformat_minor": 2
}
