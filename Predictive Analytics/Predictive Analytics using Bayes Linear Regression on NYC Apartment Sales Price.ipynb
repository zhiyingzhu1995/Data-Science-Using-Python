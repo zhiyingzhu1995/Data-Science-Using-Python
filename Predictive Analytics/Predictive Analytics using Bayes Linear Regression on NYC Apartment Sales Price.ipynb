{
 "cells": [
  {
   "cell_type": "markdown",
   "metadata": {},
   "source": [
    "# Aim\n",
    "- to predict the Price of NYC real-state using data retrieved from this [link](https://www.kaggle.com/new-york-city/nyc-property-sales)\n",
    "\n",
    "Notes:\n",
    "- need to pre-process data\n",
    "- need to do feature selection for price modeling\n",
    "- try to apply Regression model to predict the price (Bayesian Linear Regression)"
   ]
  },
  {
   "cell_type": "code",
   "execution_count": 167,
   "metadata": {
    "ExecuteTime": {
     "end_time": "2020-12-12T17:48:09.439978Z",
     "start_time": "2020-12-12T17:48:09.406250Z"
    }
   },
   "outputs": [],
   "source": [
    "import numpy as np\n",
    "import pandas as pd\n",
    "import seaborn as sns\n",
    "import os\n",
    "import matplotlib.pyplot as plt\n",
    "%matplotlib inline"
   ]
  },
  {
   "cell_type": "markdown",
   "metadata": {},
   "source": [
    "# EDA"
   ]
  },
  {
   "cell_type": "markdown",
   "metadata": {},
   "source": [
    "## Data Preprocessing"
   ]
  },
  {
   "cell_type": "code",
   "execution_count": 140,
   "metadata": {
    "ExecuteTime": {
     "end_time": "2020-12-11T03:38:56.695527Z",
     "start_time": "2020-12-11T03:38:56.384525Z"
    }
   },
   "outputs": [],
   "source": [
    "#read in the file\n",
    "df = pd.read_csv('*/nyc_rolling_sales.csv')\n",
    "\n",
    "#drop the irrelavant column named 'Unnamed: 0'\n",
    "df.drop(columns = 'Unnamed: 0', inplace = True)\n",
    "\n",
    "#need to rename the columns replacing space and dash in the column name with underscore\n",
    "df.columns = [x.replace(\" \",\"_\").replace(\"-\", \"_\") for x in df.columns]\n",
    "\n",
    "#add a column for the age of the building\n",
    "df['AGE'] = df['YEAR_BUILT'].apply(lambda x: 2020-x)\n",
    "\n",
    "#drop the \"YEAR_BUILT\" column\n",
    "df.drop(columns = 'YEAR_BUILT', inplace = True)\n",
    "\n"
   ]
  },
  {
   "cell_type": "code",
   "execution_count": 141,
   "metadata": {
    "ExecuteTime": {
     "end_time": "2020-12-11T03:38:58.340150Z",
     "start_time": "2020-12-11T03:38:58.284511Z"
    }
   },
   "outputs": [
    {
     "name": "stdout",
     "output_type": "stream",
     "text": [
      "<class 'pandas.core.frame.DataFrame'>\n",
      "RangeIndex: 84548 entries, 0 to 84547\n",
      "Data columns (total 21 columns):\n",
      " #   Column                          Non-Null Count  Dtype \n",
      "---  ------                          --------------  ----- \n",
      " 0   BOROUGH                         84548 non-null  int64 \n",
      " 1   NEIGHBORHOOD                    84548 non-null  object\n",
      " 2   BUILDING_CLASS_CATEGORY         84548 non-null  object\n",
      " 3   TAX_CLASS_AT_PRESENT            84548 non-null  object\n",
      " 4   BLOCK                           84548 non-null  int64 \n",
      " 5   LOT                             84548 non-null  int64 \n",
      " 6   EASE_MENT                       84548 non-null  object\n",
      " 7   BUILDING_CLASS_AT_PRESENT       84548 non-null  object\n",
      " 8   ADDRESS                         84548 non-null  object\n",
      " 9   APARTMENT_NUMBER                84548 non-null  object\n",
      " 10  ZIP_CODE                        84548 non-null  int64 \n",
      " 11  RESIDENTIAL_UNITS               84548 non-null  int64 \n",
      " 12  COMMERCIAL_UNITS                84548 non-null  int64 \n",
      " 13  TOTAL_UNITS                     84548 non-null  int64 \n",
      " 14  LAND_SQUARE_FEET                84548 non-null  object\n",
      " 15  GROSS_SQUARE_FEET               84548 non-null  object\n",
      " 16  TAX_CLASS_AT_TIME_OF_SALE       84548 non-null  int64 \n",
      " 17  BUILDING_CLASS_AT_TIME_OF_SALE  84548 non-null  object\n",
      " 18  SALE_PRICE                      84548 non-null  object\n",
      " 19  SALE_DATE                       84548 non-null  object\n",
      " 20  AGE                             84548 non-null  int64 \n",
      "dtypes: int64(9), object(12)\n",
      "memory usage: 13.5+ MB\n"
     ]
    }
   ],
   "source": [
    "######################################\n",
    "#Invalid/Missing Data May be in dataset\n",
    "#######################################\n",
    "df.info()"
   ]
  },
  {
   "cell_type": "code",
   "execution_count": 142,
   "metadata": {
    "ExecuteTime": {
     "end_time": "2020-12-11T03:38:59.284288Z",
     "start_time": "2020-12-11T03:38:59.271629Z"
    }
   },
   "outputs": [
    {
     "name": "stdout",
     "output_type": "stream",
     "text": [
      "['6625000' ' -  ' '3936272' ... '408092' '11693337' '69300']\n"
     ]
    }
   ],
   "source": [
    "print(df['SALE_PRICE'].unique())"
   ]
  },
  {
   "cell_type": "code",
   "execution_count": 143,
   "metadata": {
    "ExecuteTime": {
     "end_time": "2020-12-11T03:38:59.989024Z",
     "start_time": "2020-12-11T03:38:59.839049Z"
    }
   },
   "outputs": [
    {
     "name": "stdout",
     "output_type": "stream",
     "text": [
      "BOROUGH                               0\n",
      "NEIGHBORHOOD                          0\n",
      "BUILDING_CLASS_CATEGORY               0\n",
      "TAX_CLASS_AT_PRESENT                  0\n",
      "BLOCK                                 0\n",
      "LOT                                   0\n",
      "EASE_MENT                             0\n",
      "BUILDING_CLASS_AT_PRESENT             0\n",
      "ADDRESS                               0\n",
      "APARTMENT_NUMBER                      0\n",
      "ZIP_CODE                              0\n",
      "RESIDENTIAL_UNITS                     0\n",
      "COMMERCIAL_UNITS                      0\n",
      "TOTAL_UNITS                           0\n",
      "LAND_SQUARE_FEET                  26252\n",
      "GROSS_SQUARE_FEET                 27612\n",
      "TAX_CLASS_AT_TIME_OF_SALE             0\n",
      "BUILDING_CLASS_AT_TIME_OF_SALE        0\n",
      "SALE_PRICE                        14561\n",
      "SALE_DATE                             0\n",
      "AGE                                   0\n",
      "dtype: int64\n",
      "68425\n"
     ]
    }
   ],
   "source": [
    "#dealing with missing values in the data by replacing \"-\" and \" -  \" with nan\n",
    "missing_value = [\"-\",' -  ']\n",
    "df.replace(missing_value, np.nan, inplace=True)\n",
    "\n",
    "#counting the number of nulls\n",
    "print(df.isnull().sum())\n",
    "print(df.isnull().sum().sum())"
   ]
  },
  {
   "cell_type": "code",
   "execution_count": 144,
   "metadata": {
    "ExecuteTime": {
     "end_time": "2020-12-11T03:39:00.209567Z",
     "start_time": "2020-12-11T03:39:00.145991Z"
    }
   },
   "outputs": [
    {
     "name": "stdout",
     "output_type": "stream",
     "text": [
      "48244\n"
     ]
    }
   ],
   "source": [
    "#drop rows where the sale price,LAND SQUARE FEET,GROSS SQUARE FEET  is null\n",
    "col = [\"SALE_PRICE\",\"LAND_SQUARE_FEET\",\"GROSS_SQUARE_FEET\"]\n",
    "df.dropna(subset=col, inplace = True)\n",
    "\n",
    "#has over 48k data to work with, still good enough\n",
    "print(len(df))\n",
    "\n",
    "#turn those 3 attribute into int type\n",
    "for x in col:\n",
    "    df[x] = df[x].astype(int)"
   ]
  },
  {
   "cell_type": "code",
   "execution_count": 145,
   "metadata": {
    "ExecuteTime": {
     "end_time": "2020-12-11T03:39:00.406043Z",
     "start_time": "2020-12-11T03:39:00.364913Z"
    }
   },
   "outputs": [
    {
     "name": "stdout",
     "output_type": "stream",
     "text": [
      "<class 'pandas.core.frame.DataFrame'>\n",
      "Int64Index: 48244 entries, 0 to 84547\n",
      "Data columns (total 21 columns):\n",
      " #   Column                          Non-Null Count  Dtype \n",
      "---  ------                          --------------  ----- \n",
      " 0   BOROUGH                         48244 non-null  int64 \n",
      " 1   NEIGHBORHOOD                    48244 non-null  object\n",
      " 2   BUILDING_CLASS_CATEGORY         48244 non-null  object\n",
      " 3   TAX_CLASS_AT_PRESENT            48244 non-null  object\n",
      " 4   BLOCK                           48244 non-null  int64 \n",
      " 5   LOT                             48244 non-null  int64 \n",
      " 6   EASE_MENT                       48244 non-null  object\n",
      " 7   BUILDING_CLASS_AT_PRESENT       48244 non-null  object\n",
      " 8   ADDRESS                         48244 non-null  object\n",
      " 9   APARTMENT_NUMBER                48244 non-null  object\n",
      " 10  ZIP_CODE                        48244 non-null  int64 \n",
      " 11  RESIDENTIAL_UNITS               48244 non-null  int64 \n",
      " 12  COMMERCIAL_UNITS                48244 non-null  int64 \n",
      " 13  TOTAL_UNITS                     48244 non-null  int64 \n",
      " 14  LAND_SQUARE_FEET                48244 non-null  int64 \n",
      " 15  GROSS_SQUARE_FEET               48244 non-null  int64 \n",
      " 16  TAX_CLASS_AT_TIME_OF_SALE       48244 non-null  int64 \n",
      " 17  BUILDING_CLASS_AT_TIME_OF_SALE  48244 non-null  object\n",
      " 18  SALE_PRICE                      48244 non-null  int64 \n",
      " 19  SALE_DATE                       48244 non-null  object\n",
      " 20  AGE                             48244 non-null  int64 \n",
      "dtypes: int64(12), object(9)\n",
      "memory usage: 8.1+ MB\n"
     ]
    }
   ],
   "source": [
    "#sanity check\n",
    "df.info()"
   ]
  },
  {
   "cell_type": "markdown",
   "metadata": {},
   "source": [
    "## Standardization \n",
    "- do standardization on continuous variables with the goal of minimize variance"
   ]
  },
  {
   "cell_type": "code",
   "execution_count": 401,
   "metadata": {
    "ExecuteTime": {
     "end_time": "2020-12-12T19:27:34.932472Z",
     "start_time": "2020-12-12T19:27:34.897079Z"
    }
   },
   "outputs": [
    {
     "data": {
      "text/html": [
       "<div>\n",
       "<style scoped>\n",
       "    .dataframe tbody tr th:only-of-type {\n",
       "        vertical-align: middle;\n",
       "    }\n",
       "\n",
       "    .dataframe tbody tr th {\n",
       "        vertical-align: top;\n",
       "    }\n",
       "\n",
       "    .dataframe thead th {\n",
       "        text-align: right;\n",
       "    }\n",
       "</style>\n",
       "<table border=\"1\" class=\"dataframe\">\n",
       "  <thead>\n",
       "    <tr style=\"text-align: right;\">\n",
       "      <th></th>\n",
       "      <th>BLOCK</th>\n",
       "      <th>LOT</th>\n",
       "      <th>RESIDENTIAL_UNITS</th>\n",
       "      <th>COMMERCIAL_UNITS</th>\n",
       "      <th>TOTAL_UNITS</th>\n",
       "      <th>LAND_SQUARE_FEET</th>\n",
       "      <th>GROSS_SQUARE_FEET</th>\n",
       "      <th>SALE_PRICE</th>\n",
       "      <th>AGE</th>\n",
       "    </tr>\n",
       "  </thead>\n",
       "  <tbody>\n",
       "    <tr>\n",
       "      <th>0</th>\n",
       "      <td>-1.339953</td>\n",
       "      <td>-0.460001</td>\n",
       "      <td>0.139331</td>\n",
       "      <td>-0.022677</td>\n",
       "      <td>0.104354</td>\n",
       "      <td>-0.054878</td>\n",
       "      <td>0.093988</td>\n",
       "      <td>0.408302</td>\n",
       "      <td>-0.155559</td>\n",
       "    </tr>\n",
       "    <tr>\n",
       "      <th>1</th>\n",
       "      <td>-1.337036</td>\n",
       "      <td>-0.429781</td>\n",
       "      <td>0.425613</td>\n",
       "      <td>-0.022677</td>\n",
       "      <td>0.345316</td>\n",
       "      <td>-0.034551</td>\n",
       "      <td>0.105998</td>\n",
       "      <td>0.207668</td>\n",
       "      <td>-0.183555</td>\n",
       "    </tr>\n",
       "  </tbody>\n",
       "</table>\n",
       "</div>"
      ],
      "text/plain": [
       "      BLOCK       LOT  RESIDENTIAL_UNITS  COMMERCIAL_UNITS  TOTAL_UNITS  \\\n",
       "0 -1.339953 -0.460001           0.139331         -0.022677     0.104354   \n",
       "1 -1.337036 -0.429781           0.425613         -0.022677     0.345316   \n",
       "\n",
       "   LAND_SQUARE_FEET  GROSS_SQUARE_FEET  SALE_PRICE       AGE  \n",
       "0         -0.054878           0.093988    0.408302 -0.155559  \n",
       "1         -0.034551           0.105998    0.207668 -0.183555  "
      ]
     },
     "execution_count": 401,
     "metadata": {},
     "output_type": "execute_result"
    }
   ],
   "source": [
    "from sklearn.preprocessing import StandardScaler\n",
    "\n",
    "#define the categorical attribute and the dependent attribute that I dont want to do PCA on\n",
    "categ_att = [\"BOROUGH\",\"ZIP_CODE\",'TAX_CLASS_AT_TIME_OF_SALE']\n",
    "\n",
    "\n",
    "#Get a list column names for which its value type in int64, exclude categorical attributes\n",
    "cont_att = [x for x in df.columns if df[x].dtype == int and x not in categ_att]\n",
    "df_std = df.loc[:,cont_att]\n",
    "\n",
    "\n",
    "#put the standardized data back into the dataframe \n",
    "scaler = StandardScaler()\n",
    "standardized_values = scaler.fit_transform(df_std)\n",
    "df_std = pd.DataFrame(data =standardized_values,\n",
    "                      columns = cont_att,index = None\n",
    "                     )\n",
    "                      \n",
    "#sanity check\n",
    "df_std.head(2)"
   ]
  },
  {
   "cell_type": "markdown",
   "metadata": {},
   "source": [
    "## Dimension Reduction (PCA)\n",
    "- do the PCA on these numerical variables, excluding the dependent variable (Y) of `SALE_PRICE`\n",
    "\n",
    "**findings**:\n",
    "- seems like 4 component explained ~80% of total variance"
   ]
  },
  {
   "cell_type": "code",
   "execution_count": 408,
   "metadata": {
    "ExecuteTime": {
     "end_time": "2020-12-12T19:30:32.184300Z",
     "start_time": "2020-12-12T19:30:31.913774Z"
    }
   },
   "outputs": [
    {
     "data": {
      "image/png": "[encoded data removed]",
      "text/plain": [
       "<Figure size 864x360 with 2 Axes>"
      ]
     },
     "metadata": {
      "needs_background": "light"
     },
     "output_type": "display_data"
    },
    {
     "data": {
      "text/html": [
       "<div>\n",
       "<style scoped>\n",
       "    .dataframe tbody tr th:only-of-type {\n",
       "        vertical-align: middle;\n",
       "    }\n",
       "\n",
       "    .dataframe tbody tr th {\n",
       "        vertical-align: top;\n",
       "    }\n",
       "\n",
       "    .dataframe thead th {\n",
       "        text-align: right;\n",
       "    }\n",
       "</style>\n",
       "<table border=\"1\" class=\"dataframe\">\n",
       "  <thead>\n",
       "    <tr style=\"text-align: right;\">\n",
       "      <th></th>\n",
       "      <th>BLOCK</th>\n",
       "      <th>LOT</th>\n",
       "      <th>RESIDENTIAL_UNITS</th>\n",
       "      <th>COMMERCIAL_UNITS</th>\n",
       "      <th>TOTAL_UNITS</th>\n",
       "      <th>LAND_SQUARE_FEET</th>\n",
       "      <th>GROSS_SQUARE_FEET</th>\n",
       "      <th>AGE</th>\n",
       "    </tr>\n",
       "  </thead>\n",
       "  <tbody>\n",
       "    <tr>\n",
       "      <th>0</th>\n",
       "      <td>0.217672</td>\n",
       "      <td>0.044890</td>\n",
       "      <td>-0.045695</td>\n",
       "      <td>-1.373512</td>\n",
       "      <td>0.03996</td>\n",
       "      <td>-0.366352</td>\n",
       "      <td>-0.010389</td>\n",
       "      <td>-0.000031</td>\n",
       "    </tr>\n",
       "    <tr>\n",
       "      <th>1</th>\n",
       "      <td>0.509740</td>\n",
       "      <td>0.062364</td>\n",
       "      <td>-0.016097</td>\n",
       "      <td>-1.378124</td>\n",
       "      <td>-0.16630</td>\n",
       "      <td>-0.337242</td>\n",
       "      <td>-0.121681</td>\n",
       "      <td>-0.000001</td>\n",
       "    </tr>\n",
       "  </tbody>\n",
       "</table>\n",
       "</div>"
      ],
      "text/plain": [
       "      BLOCK       LOT  RESIDENTIAL_UNITS  COMMERCIAL_UNITS  TOTAL_UNITS  \\\n",
       "0  0.217672  0.044890          -0.045695         -1.373512      0.03996   \n",
       "1  0.509740  0.062364          -0.016097         -1.378124     -0.16630   \n",
       "\n",
       "   LAND_SQUARE_FEET  GROSS_SQUARE_FEET       AGE  \n",
       "0         -0.366352          -0.010389 -0.000031  \n",
       "1         -0.337242          -0.121681 -0.000001  "
      ]
     },
     "execution_count": 408,
     "metadata": {},
     "output_type": "execute_result"
    }
   ],
   "source": [
    "from sklearn.decomposition import PCA\n",
    "\n",
    "#intantiate the reducer\n",
    "reducer = PCA(random_state =3)\n",
    "\n",
    "#fit and transform the data on itself, exclude the dependent variable (sales price) when doing PCA\n",
    "reduce_data = reducer.fit_transform(df_std.drop(\"SALE_PRICE\", axis = 1, inplace = False))\n",
    "\n",
    "#put it as a dataframe\n",
    "df_reduced = pd.DataFrame(data = reduce_data,\n",
    "                          columns = (df_std.drop(\"SALE_PRICE\", axis = 1, inplace = False).columns),\n",
    "                          index = None\n",
    "                         )\n",
    "\n",
    "#explained variance ratio\n",
    "variance_ratio = reducer.explained_variance_ratio_\n",
    "variance_ratio_sum = reducer.explained_variance_ratio_.cumsum()\n",
    "\n",
    "#plot \n",
    "fig, ax = plt.subplots(ncols=2, figsize = (12,5))\n",
    "x_labels = [\"Dim %s\"%x.astype(int) for x in np.linspace(1,len(df_reduced.columns),len(df_reduced.columns))]\n",
    "\n",
    "#plot the Explained Variance Graph graph \n",
    "ax[0].bar(x = x_labels, height = variance_ratio)# - bar\n",
    "ax[0].plot(x_labels,variance_ratio, color = 'r', linestyle = \"--\",marker=\"o\", linewidth = 0.8) #-line\n",
    "ax[0].set_xticklabels(x_labels,rotation=45);\n",
    "ax[0].set_title(\"Explained Variance Graph\", fontweight = \"bold\");\n",
    "ax[0].set_ylabel(\"Explained Variance Ratio\");\n",
    "#annotate the points\n",
    "for x,y in zip(np.linspace(1,9,9), variance_ratio):\n",
    "    num = str(np.round(y, decimals =2))\n",
    "    ax[0].annotate(num, xy = (x-1,y+0.005))\n",
    "\n",
    "\n",
    "\n",
    "#plot the cumulative  Explained Variance Graph graph\n",
    "ax[1].plot(x_labels,variance_ratio_sum, color = \"green\", linestyle = \"--\",marker=\"o\");\n",
    "ax[1].set_xticklabels(x_labels,rotation = 45);\n",
    "ax[1].set_title(\"Cumulative Explained Variance Graph\", fontweight = \"bold\");\n",
    "ax[1].set_ylabel(\"Cumulative Explained Variance Ratio\");\n",
    "#annotate the points\n",
    "for x,y in zip(np.linspace(1,9,9), variance_ratio_sum):\n",
    "    num = str(np.round(y, decimals =2))\n",
    "    ax[1].annotate(num, xy = (x-0.8,y-0.007))\n",
    "    \n",
    "\n",
    "plt.show()\n",
    "df_reduced.head(2)"
   ]
  },
  {
   "cell_type": "markdown",
   "metadata": {},
   "source": [
    "## Feature Selection - RFE"
   ]
  },
  {
   "cell_type": "code",
   "execution_count": 392,
   "metadata": {
    "ExecuteTime": {
     "end_time": "2020-12-12T19:22:49.902025Z",
     "start_time": "2020-12-12T19:22:49.854685Z"
    }
   },
   "outputs": [
    {
     "name": "stdout",
     "output_type": "stream",
     "text": [
      "Fitting estimator with 8 features.\n",
      "Fitting estimator with 7 features.\n",
      "Fitting estimator with 6 features.\n",
      "Fitting estimator with 5 features.\n",
      "The final 4 selected features of importance are: ['BLOCK' 'RESIDENTIAL_UNITS' 'GROSS_SQUARE_FEET' 'AGE']\n"
     ]
    }
   ],
   "source": [
    "from sklearn.feature_selection import RFE\n",
    "from sklearn.linear_model import LinearRegression\n",
    "\n",
    "#instaniate RFE to select 4 features of imprtance\n",
    "rfe = RFE(estimator = LinearRegression(),\n",
    "          n_features_to_select = 4,\n",
    "          verbose = 1)\n",
    "\n",
    "#fit on the data, X = all the 8 dimension, Y = the sale price\n",
    "rfe.fit(df_reduced, df['SALE_PRICE']);\n",
    "\n",
    "#assess the important features\n",
    "cols_important_mask = rfe.support_\n",
    "print(\"The final %s selected features of importance are: %s\" %(rfe.n_features_,df_reduced.columns[rfe.support_].values))\n",
    "\n",
    "\n"
   ]
  },
  {
   "cell_type": "markdown",
   "metadata": {},
   "source": [
    "# Bayesian Linear Regression\n",
    "**Notes**\n",
    "- SALE_PRICE ~ BLOCK + RESIDENTIAL_UNITS + GROSS_SQUARE_FEET + AGE\n",
    "- Must standardize the data before fitting it into the model for it to converge since the values are too large\n",
    "\n",
    "**Bayes Theorem**: to get $\\beta$ at given X(input) and q(obtained output) to fit on new data\n",
    "\n",
    "$$P(\\beta|q,X) = \\Large\\frac{P(q|\\beta,X)\\times P(\\beta|X)}{\\int P(q, X|\\beta_i)\\mathrm{d\\beta_i}}$$\n",
    "\n",
    "where:\n",
    "- $P(\\beta|q,X)$ = the posterior \n",
    "- $P(q|\\beta,X)$ = the likelihood of data\n",
    "- $P(\\beta|X)$ = the prior probability of parameters\n",
    "- $\\int P(q, X|\\beta_i)\\mathrm{d\\beta_i}$ = the marginal probability\n",
    "\n",
    "\n",
    "\n",
    "\n",
    "**Markov Chain Monte Carlo using the pymc3 model**\n",
    "- Markov Chain Monte Carlo: used to approximate the posterior without computing the marginal lielihood\n",
    "- Monte Carlo: the general technique of drawing random samples\n",
    "- Markov Chain: means the next sample is drawn based on the value of prior sample\n",
    "\n",
    "_(Note: the pymc3 model takes a dataframe, need to also include the Target variable (y) in the X_train and X_test)_\n"
   ]
  },
  {
   "cell_type": "markdown",
   "metadata": {},
   "source": [
    "## Train and Test sets split\n",
    "- for the pymc3 model, the X train and X test must also contain the target variable"
   ]
  },
  {
   "cell_type": "code",
   "execution_count": 528,
   "metadata": {
    "ExecuteTime": {
     "end_time": "2020-12-12T20:35:29.992737Z",
     "start_time": "2020-12-12T20:35:29.973201Z"
    }
   },
   "outputs": [],
   "source": [
    "from sklearn.model_selection import train_test_split\n",
    "\n",
    "##################\n",
    "#split the training data\n",
    "#Note::\n",
    "#the X_train and X_test contains the target variable \"SALE PRICE\"\n",
    "##################\n",
    "dataframe_include_target_variable = pd.DataFrame(\n",
    "    data = np.append(df_reduced.loc[:,cols_important_mask].values,df_std['SALE_PRICE'].values.reshape(-1,1), axis =1),\n",
    "    columns = np.append(df_reduced.columns[cols_important_mask].values, \"SALE_PRICE\")\n",
    "            )\n",
    "\n",
    "X_train,X_test,y_train,y_test = train_test_split(dataframe_include_target_variable,\n",
    "                                                  df_std['SALE_PRICE'],\n",
    "                                                  test_size = 0.25,\n",
    "                                                  random_state =3\n",
    "                                                 )"
   ]
  },
  {
   "cell_type": "markdown",
   "metadata": {},
   "source": [
    "## Build a Bayesian Linear Regression using pymc3\n",
    "- The results are illustrated as posterior histograms for β_0, β_1, β_2, β_3, β_4 and σ. The histograms show 94% Highest Posterior Density (HPD)."
   ]
  },
  {
   "cell_type": "code",
   "execution_count": 529,
   "metadata": {
    "ExecuteTime": {
     "end_time": "2020-12-12T20:36:14.505586Z",
     "start_time": "2020-12-12T20:35:34.071803Z"
    }
   },
   "outputs": [
    {
     "name": "stdout",
     "output_type": "stream",
     "text": [
      "SALE_PRICE ~ BLOCK + RESIDENTIAL_UNITS + GROSS_SQUARE_FEET + AGE\n"
     ]
    },
    {
     "name": "stderr",
     "output_type": "stream",
     "text": [
      "/Users/zhiying/opt/anaconda3/lib/python3.8/site-packages/pymc3/sampling.py:465: FutureWarning: In an upcoming release, pm.sample will return an `arviz.InferenceData` object instead of a `MultiTrace` by default. You can pass return_inferencedata=True or return_inferencedata=False to be safe and silence this warning.\n",
      "  warnings.warn(\n",
      "Auto-assigning NUTS sampler...\n",
      "Initializing NUTS using jitter+adapt_diag...\n",
      "Multiprocess sampling (2 chains in 2 jobs)\n",
      "NUTS: [sd, AGE, GROSS_SQUARE_FEET, RESIDENTIAL_UNITS, BLOCK, Intercept]\n"
     ]
    },
    {
     "data": {
      "text/html": [
       "\n",
       "    <div>\n",
       "        <style>\n",
       "            /* Turns off some styling */\n",
       "            progress {\n",
       "                /* gets rid of default border in Firefox and Opera. */\n",
       "                border: none;\n",
       "                /* Needs to be in here for Safari polyfill so background images work as expected. */\n",
       "                background-size: auto;\n",
       "            }\n",
       "            .progress-bar-interrupted, .progress-bar-interrupted::-webkit-progress-bar {\n",
       "                background: #F44336;\n",
       "            }\n",
       "        </style>\n",
       "      <progress value='5000' class='' max='5000' style='width:300px; height:20px; vertical-align: middle;'></progress>\n",
       "      100.00% [5000/5000 00:23<00:00 Sampling 2 chains, 0 divergences]\n",
       "    </div>\n",
       "    "
      ],
      "text/plain": [
       "<IPython.core.display.HTML object>"
      ]
     },
     "metadata": {},
     "output_type": "display_data"
    },
    {
     "name": "stderr",
     "output_type": "stream",
     "text": [
      "Sampling 2 chains for 500 tune and 2_000 draw iterations (1_000 + 4_000 draws total) took 34 seconds.\n"
     ]
    }
   ],
   "source": [
    "import pymc3 as pm\n",
    "from pymc3 import traceplot\n",
    "\n",
    "#import warnings; warnings.simplefilter('ignore')\n",
    "\n",
    "# Formula for Bayesian Linear Regression\n",
    "formula = \"SALE_PRICE ~ \" + \" + \".join([\"%s\" %variable for variable in X_train.columns if variable != \"SALE_PRICE\"])\n",
    "print(formula)\n",
    "\n",
    "# model specifications in PyMC3 are wrapped in a with-statement\n",
    "with pm.Model() as linear_models:\n",
    "    \n",
    "    #the prior for the model parameters will be obtained from a normal distribution\n",
    "    family = pm.glm.families.Normal()#it is Base class for Family of likelihood distribution and link functions\n",
    "    \n",
    "    #create the model using the formula above and the training data\n",
    "    pm.GLM.from_formula(formula, data = X_train, family = family)\n",
    "    \n",
    "    #perform Markov Chain Monte Carlo Sampling\n",
    "    normal_trace = pm.sample(draws=2000, cores = 2, tune = 500) #drawing 2000 samples, using 2 cores, failed because the values are too large, need to standardize them"
   ]
  },
  {
   "cell_type": "code",
   "execution_count": 530,
   "metadata": {
    "ExecuteTime": {
     "end_time": "2020-12-12T20:36:18.000342Z",
     "start_time": "2020-12-12T20:36:14.508484Z"
    }
   },
   "outputs": [
    {
     "name": "stderr",
     "output_type": "stream",
     "text": [
      "/Users/zhiying/opt/anaconda3/lib/python3.8/site-packages/arviz/data/io_pymc3.py:87: FutureWarning: Using `from_pymc3` without the model will be deprecated in a future release. Not using the model will return less accurate and less useful results. Make sure you use the model argument or call from_pymc3 within a model context.\n",
      "  warnings.warn(\n"
     ]
    },
    {
     "data": {
      "text/html": [
       "<div>\n",
       "<style scoped>\n",
       "    .dataframe tbody tr th:only-of-type {\n",
       "        vertical-align: middle;\n",
       "    }\n",
       "\n",
       "    .dataframe tbody tr th {\n",
       "        vertical-align: top;\n",
       "    }\n",
       "\n",
       "    .dataframe thead th {\n",
       "        text-align: right;\n",
       "    }\n",
       "</style>\n",
       "<table border=\"1\" class=\"dataframe\">\n",
       "  <thead>\n",
       "    <tr style=\"text-align: right;\">\n",
       "      <th></th>\n",
       "      <th>mean</th>\n",
       "      <th>sd</th>\n",
       "      <th>hdi_3%</th>\n",
       "      <th>hdi_97%</th>\n",
       "      <th>mcse_mean</th>\n",
       "      <th>mcse_sd</th>\n",
       "      <th>ess_mean</th>\n",
       "      <th>ess_sd</th>\n",
       "      <th>ess_bulk</th>\n",
       "      <th>ess_tail</th>\n",
       "      <th>r_hat</th>\n",
       "    </tr>\n",
       "  </thead>\n",
       "  <tbody>\n",
       "    <tr>\n",
       "      <th>Intercept</th>\n",
       "      <td>0.001</td>\n",
       "      <td>0.005</td>\n",
       "      <td>-0.007</td>\n",
       "      <td>0.011</td>\n",
       "      <td>0.000</td>\n",
       "      <td>0.000</td>\n",
       "      <td>4425.0</td>\n",
       "      <td>2048.0</td>\n",
       "      <td>4458.0</td>\n",
       "      <td>3446.0</td>\n",
       "      <td>1.0</td>\n",
       "    </tr>\n",
       "    <tr>\n",
       "      <th>BLOCK</th>\n",
       "      <td>0.138</td>\n",
       "      <td>0.003</td>\n",
       "      <td>0.133</td>\n",
       "      <td>0.143</td>\n",
       "      <td>0.000</td>\n",
       "      <td>0.000</td>\n",
       "      <td>6643.0</td>\n",
       "      <td>6626.0</td>\n",
       "      <td>6659.0</td>\n",
       "      <td>3219.0</td>\n",
       "      <td>1.0</td>\n",
       "    </tr>\n",
       "    <tr>\n",
       "      <th>RESIDENTIAL_UNITS</th>\n",
       "      <td>-0.077</td>\n",
       "      <td>0.004</td>\n",
       "      <td>-0.084</td>\n",
       "      <td>-0.070</td>\n",
       "      <td>0.000</td>\n",
       "      <td>0.000</td>\n",
       "      <td>5394.0</td>\n",
       "      <td>5394.0</td>\n",
       "      <td>5401.0</td>\n",
       "      <td>3205.0</td>\n",
       "      <td>1.0</td>\n",
       "    </tr>\n",
       "    <tr>\n",
       "      <th>GROSS_SQUARE_FEET</th>\n",
       "      <td>0.955</td>\n",
       "      <td>0.008</td>\n",
       "      <td>0.940</td>\n",
       "      <td>0.969</td>\n",
       "      <td>0.000</td>\n",
       "      <td>0.000</td>\n",
       "      <td>6246.0</td>\n",
       "      <td>6246.0</td>\n",
       "      <td>6259.0</td>\n",
       "      <td>3429.0</td>\n",
       "      <td>1.0</td>\n",
       "    </tr>\n",
       "    <tr>\n",
       "      <th>AGE</th>\n",
       "      <td>0.862</td>\n",
       "      <td>0.952</td>\n",
       "      <td>-0.859</td>\n",
       "      <td>2.690</td>\n",
       "      <td>0.011</td>\n",
       "      <td>0.011</td>\n",
       "      <td>7164.0</td>\n",
       "      <td>3810.0</td>\n",
       "      <td>7245.0</td>\n",
       "      <td>3264.0</td>\n",
       "      <td>1.0</td>\n",
       "    </tr>\n",
       "    <tr>\n",
       "      <th>sd</th>\n",
       "      <td>0.899</td>\n",
       "      <td>0.003</td>\n",
       "      <td>0.892</td>\n",
       "      <td>0.905</td>\n",
       "      <td>0.000</td>\n",
       "      <td>0.000</td>\n",
       "      <td>6977.0</td>\n",
       "      <td>6977.0</td>\n",
       "      <td>6954.0</td>\n",
       "      <td>3222.0</td>\n",
       "      <td>1.0</td>\n",
       "    </tr>\n",
       "  </tbody>\n",
       "</table>\n",
       "</div>"
      ],
      "text/plain": [
       "                    mean     sd  hdi_3%  hdi_97%  mcse_mean  mcse_sd  \\\n",
       "Intercept          0.001  0.005  -0.007    0.011      0.000    0.000   \n",
       "BLOCK              0.138  0.003   0.133    0.143      0.000    0.000   \n",
       "RESIDENTIAL_UNITS -0.077  0.004  -0.084   -0.070      0.000    0.000   \n",
       "GROSS_SQUARE_FEET  0.955  0.008   0.940    0.969      0.000    0.000   \n",
       "AGE                0.862  0.952  -0.859    2.690      0.011    0.011   \n",
       "sd                 0.899  0.003   0.892    0.905      0.000    0.000   \n",
       "\n",
       "                   ess_mean  ess_sd  ess_bulk  ess_tail  r_hat  \n",
       "Intercept            4425.0  2048.0    4458.0    3446.0    1.0  \n",
       "BLOCK                6643.0  6626.0    6659.0    3219.0    1.0  \n",
       "RESIDENTIAL_UNITS    5394.0  5394.0    5401.0    3205.0    1.0  \n",
       "GROSS_SQUARE_FEET    6246.0  6246.0    6259.0    3429.0    1.0  \n",
       "AGE                  7164.0  3810.0    7245.0    3264.0    1.0  \n",
       "sd                   6977.0  6977.0    6954.0    3222.0    1.0  "
      ]
     },
     "execution_count": 530,
     "metadata": {},
     "output_type": "execute_result"
    }
   ],
   "source": [
    "#get the summary of the bayesian model\n",
    "pm.summary(normal_trace)"
   ]
  },
  {
   "cell_type": "code",
   "execution_count": 531,
   "metadata": {
    "ExecuteTime": {
     "end_time": "2020-12-12T20:36:23.041199Z",
     "start_time": "2020-12-12T20:36:18.005750Z"
    }
   },
   "outputs": [
    {
     "name": "stderr",
     "output_type": "stream",
     "text": [
      "/Users/zhiying/opt/anaconda3/lib/python3.8/site-packages/arviz/data/io_pymc3.py:87: FutureWarning: Using `from_pymc3` without the model will be deprecated in a future release. Not using the model will return less accurate and less useful results. Make sure you use the model argument or call from_pymc3 within a model context.\n",
      "  warnings.warn(\n"
     ]
    },
    {
     "data": {
      "image/png": "[encoded data removed]",
      "text/plain": [
       "<Figure size 1490.4x662.4 with 6 Axes>"
      ]
     },
     "metadata": {
      "needs_background": "light"
     },
     "output_type": "display_data"
    }
   ],
   "source": [
    "#plot the posterior distribution\n",
    "pm.plots.plot_posterior(normal_trace, kind = 'hist');\n",
    "plt.show()"
   ]
  },
  {
   "cell_type": "markdown",
   "metadata": {},
   "source": [
    "## Evaluate the model using MAE and RMSE\n",
    "\n",
    "**Metrics for Model**\n",
    "\n",
    "- `Mean Absolute Error (MAE)`: The absolute value of the difference between predicted value and the actual value\n",
    "\n",
    "$$MAE = \\Large \\frac{\\sum |\\hat y_i - y_i|}{n}$$\n",
    "\n",
    "\n",
    "- `Root Mean Square Error (RMSE)`: the square root of the average of the square differences between the predictions and the actual values\n",
    "\n",
    "$$RMSE = \\Large \\sqrt \\frac{\\sum \\hat y - y_i^2}{n}$$"
   ]
  },
  {
   "cell_type": "markdown",
   "metadata": {},
   "source": [
    "**To calculate the MAE, and RMSE:**\n",
    "- take the median of the probability distribution for SALE_PRICE as the predicted value\n",
    "- the true is the X_test['SALE_PRICE']\n",
    "- then give it as the prediction to evaluate_prediction function.\n",
    "\n",
    "**findings:**\n",
    "The assessment of model performance shows that the predictor model has good accuracy."
   ]
  },
  {
   "cell_type": "code",
   "execution_count": 532,
   "metadata": {
    "ExecuteTime": {
     "end_time": "2020-12-12T20:36:23.057288Z",
     "start_time": "2020-12-12T20:36:23.043624Z"
    }
   },
   "outputs": [
    {
     "name": "stdout",
     "output_type": "stream",
     "text": [
      "Mean Absolute Error: 0.0700\n",
      "Root Mean Square Error: 0.6189\n"
     ]
    }
   ],
   "source": [
    "# Define a function to calculate Mean Absolute Error (MAE) and Root Mean Square Error (RMSE)\n",
    "def evaluate_prediction(prediction, true):\n",
    "    mae = np.mean(abs(prediction - true))\n",
    "    rmse = np.sqrt(np.mean((prediction - true) ** 2))\n",
    "    return mae, rmse\n",
    "\n",
    "median_pred = X_train['SALE_PRICE'].median()\n",
    "median_preds = [median_pred for _ in range(len(X_test))]\n",
    "true = X_test['SALE_PRICE']\n",
    "\n",
    "\n",
    "# # Display mae and rmse\n",
    "mae, rmse = evaluate_prediction(median_preds, true)\n",
    "print('Mean Absolute Error: {:.4f}'.format(mae))\n",
    "print('Root Mean Square Error: {:.4f}'.format(rmse))"
   ]
  }
 ],
 "metadata": {
  "hide_input": false,
  "kernelspec": {
   "display_name": "Python 3",
   "language": "python",
   "name": "python3"
  },
  "language_info": {
   "codemirror_mode": {
    "name": "ipython",
    "version": 3
   },
   "file_extension": ".py",
   "mimetype": "text/x-python",
   "name": "python",
   "nbconvert_exporter": "python",
   "pygments_lexer": "ipython3",
   "version": "3.8.3"
  },
  "toc": {
   "base_numbering": 1,
   "nav_menu": {},
   "number_sections": true,
   "sideBar": true,
   "skip_h1_title": false,
   "title_cell": "Table of Contents",
   "title_sidebar": "Contents",
   "toc_cell": false,
   "toc_position": {},
   "toc_section_display": true,
   "toc_window_display": true
  }
 },
 "nbformat": 4,
 "nbformat_minor": 4
}
