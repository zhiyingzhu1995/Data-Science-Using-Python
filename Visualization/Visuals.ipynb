{
 "cells": [
  {
   "cell_type": "code",
   "execution_count": 139,
   "metadata": {
    "ExecuteTime": {
     "end_time": "2020-11-01T16:26:05.282385Z",
     "start_time": "2020-11-01T16:26:05.279111Z"
    }
   },
   "outputs": [],
   "source": [
    "import pandas as pd\n",
    "import matplotlib.pyplot as plt\n",
    "import numpy as np\n",
    "import seaborn as sns\n",
    "import math\n",
    "\n",
    "import plotly.express as px\n",
    "import altair as alt"
   ]
  },
  {
   "cell_type": "code",
   "execution_count": 56,
   "metadata": {
    "ExecuteTime": {
     "end_time": "2020-11-01T15:54:58.207684Z",
     "start_time": "2020-11-01T15:54:58.199277Z"
    }
   },
   "outputs": [],
   "source": [
    "df = pd.read_csv(\"./us_states.csv\")"
   ]
  },
  {
   "cell_type": "code",
   "execution_count": 257,
   "metadata": {
    "ExecuteTime": {
     "end_time": "2020-11-01T17:37:26.515585Z",
     "start_time": "2020-11-01T17:37:26.508618Z"
    },
    "code_folding": [
     0
    ]
   },
   "outputs": [],
   "source": [
    "# Create a mapping file using the US Census Bureau recommendation into 4 regions: Northeast,  Midwest, South, West. \n",
    "\n",
    "mapping = {\n",
    "\"Maine\":\"Northeast\",\n",
    "\"New Hampshire\":\"Northeast\",\n",
    "\"Vermont\":\"Northeast\",\n",
    "\"Massachusetts\":\"Northeast\",\n",
    "\"Rhode Island\":\"Northeast\",\n",
    "\"Connecticut\":\"Northeast\",\n",
    "\"New York\":\"Northeast\",\n",
    "\"New Jersey\":\"Northeast\",\n",
    "\"Pennsylvania\":\"Northeast\",\n",
    "\"Ohio\":\"Midwest\",\n",
    "\"Michigan\":\"Midwest\",\n",
    "\"Indiana\":\"Midwest\",\n",
    "\"Wisconsin\":\"Midwest\",\n",
    "\"Illinois\":\"Midwest\",\n",
    "\"Minnesota\":\"Midwest\",\n",
    "\"Iowa\":\"Midwest\",\n",
    "\"Missouri\":\"Midwest\",\n",
    "\"North Dakota\":\"Midwest\",\n",
    "\"South Dakota\":\"Midwest\",\n",
    "\"Nebraska\":\"Midwest\",\n",
    "\"Kansas\":\"Midwest\",\n",
    "\"Delaware\":\"South\",\n",
    "\"Maryland\":\"South\",\n",
    "\"Virginia\":\"South\",\n",
    "\"West Virginia\":\"South\",\n",
    "\"Kentucky\":\"South\",\n",
    "\"North Carolina\":\"South\",\n",
    "\"South Carolina\":\"South\",\n",
    "\"Tennessee\":\"South\",\n",
    "\"Georgia\":\"South\",\n",
    "\"Florida\":\"South\",\n",
    "\"Alabama\":\"South\",\n",
    "\"Mississippi\":\"South\",\n",
    "\"Arkansas\":\"South\",\n",
    "\"Louisiana\":\"South\",\n",
    "\"Texas\":\"South\",\n",
    "\"Oklahoma\":\"South\",\n",
    "\"Montana\":\"West\",\n",
    "\"Idaho\":\"West\",\n",
    "\"Wyoming\":\"West\",\n",
    "\"Colorado\":\"West\",\n",
    "\"New Mexico\":\"West\",\n",
    "\"Arizona\":\"West\",\n",
    "\"Utah\":\"West\",\n",
    "\"Nevada\":\"West\",\n",
    "\"California\":\"West\",\n",
    "\"Oregon\":\"West\",\n",
    "\"Washington\":\"West\",\n",
    "\"Alaska\":\"West\",\n",
    "\"Hawaii\":\"West\",\n",
    "\"District of Columbia\":\"Non-official US States\",\n",
    "\"Guam\":\"Non-official US States\",\n",
    "\"Northern Mariana Islands\":\"Non-official US States\",\n",
    "\"Puerto Rico\":\"Non-official US States\",\n",
    "\"Virgin Islands\":\"Non-official US States\",\n",
    "}"
   ]
  },
  {
   "cell_type": "code",
   "execution_count": 258,
   "metadata": {
    "ExecuteTime": {
     "end_time": "2020-11-01T17:37:27.860681Z",
     "start_time": "2020-11-01T17:37:27.852677Z"
    },
    "code_folding": []
   },
   "outputs": [],
   "source": [
    "# Apply the mapping filed from states to region\n",
    "df['state_mapped'] = df['state'].replace(mapping)"
   ]
  },
  {
   "cell_type": "code",
   "execution_count": 259,
   "metadata": {
    "ExecuteTime": {
     "end_time": "2020-11-01T17:37:29.197126Z",
     "start_time": "2020-11-01T17:37:29.191736Z"
    }
   },
   "outputs": [],
   "source": [
    "#conver the cases to log scale\n",
    "df['cases_log_scale'] = df['cases'].apply(lambda x: math.log10(x))\n",
    "\n",
    "#conver the deaths to log scale\n",
    "df['deaths_log_scale'] = df['deaths'].apply(lambda x: math.log10(x))"
   ]
  },
  {
   "cell_type": "code",
   "execution_count": 271,
   "metadata": {
    "ExecuteTime": {
     "end_time": "2020-11-01T17:39:24.101852Z",
     "start_time": "2020-11-01T17:39:24.098030Z"
    }
   },
   "outputs": [],
   "source": [
    "df.head(10);"
   ]
  },
  {
   "cell_type": "markdown",
   "metadata": {},
   "source": [
    "## Which region of the US has the most COVID cases and most COVID deaths in total\n",
    "\n",
    "**Number of Cases**\n",
    "- From looking at the chart 1 below, the South seems to have the most COVID cases. It has about $10^{20}$ more cases than the West\n",
    "- The West and Midwest have similar amount of Covid cases\n",
    "- The 5 non-official US states (\"District of Columbia\",\"Guam\",\"Northern Mariana Islands\",\"Puerto Rico\",\"Virgin Islands\") have the least covid cases.\n",
    "\n",
    "**Number of Deaths**\n",
    "- The South still is the region with the highest sum of COVID death, while the 5 non-official US states have the least covid cases.\n",
    "- Interestingly, although West has more cases than Midwest, Midwest has more COVID related deaths than the West. \n",
    "\n",
    "**Comparing the Number of Deaths and Cases**\n",
    "- Comparing the cases and deaths by region, it doesn't seem like all COVID cases are lethal, meaning not all patients with COVID would die. \n"
   ]
  },
  {
   "cell_type": "code",
   "execution_count": 266,
   "metadata": {
    "ExecuteTime": {
     "end_time": "2020-11-01T17:38:12.452204Z",
     "start_time": "2020-11-01T17:38:12.435971Z"
    }
   },
   "outputs": [
    {
     "name": "stderr",
     "output_type": "stream",
     "text": [
      "<ipython-input-266-f01da72d047f>:2: FutureWarning: Indexing with multiple keys (implicitly converted to a tuple of keys) will be deprecated, use a list instead.\n",
      "  df.groupby(by=[\"state_mapped\"])[\"deaths_log_scale\",\"cases_log_scale\"].agg({\"sum\"}).stack(level=1)\n"
     ]
    }
   ],
   "source": [
    "sumdf = (\n",
    "         df.groupby(by=[\"state_mapped\"])[\"deaths_log_scale\",\"cases_log_scale\"].agg({\"sum\"}).stack(level=1)\n",
    "         .reset_index()\n",
    "         .drop(\"level_1\", axis = 1)\n",
    "        );"
   ]
  },
  {
   "cell_type": "code",
   "execution_count": 267,
   "metadata": {
    "ExecuteTime": {
     "end_time": "2020-11-01T17:38:17.748717Z",
     "start_time": "2020-11-01T17:38:17.521371Z"
    }
   },
   "outputs": [
    {
     "data": {
      "image/png": "[encoded data removed]",
      "text/plain": [
       "<Figure size 1296x360 with 2 Axes>"
      ]
     },
     "metadata": {
      "needs_background": "light"
     },
     "output_type": "display_data"
    }
   ],
   "source": [
    "#pre-configuring\n",
    "fig, ax = plt.subplots(ncols = 2, figsize = (18,5))\n",
    "fig.autofmt_xdate(rotation=90)\n",
    "\n",
    "#plot cases\n",
    "ax[0].bar(data = sumdf.sort_values(by = \"cases_log_scale\", ascending = False),\n",
    "             x = \"state_mapped\",\n",
    "             height= \"cases_log_scale\",\n",
    "             color = [\"red\",\"grey\",\"grey\",\"grey\",\"grey\"],\n",
    "            )\n",
    "\n",
    "#plot deatus\n",
    "ax[1].bar(data = sumdf.sort_values(by = \"deaths_log_scale\", ascending = False),\n",
    "             x = \"state_mapped\",\n",
    "             height= \"deaths_log_scale\",\n",
    "             color = [\"red\",\"grey\",\"grey\",\"grey\",\"grey\"],\n",
    "            )\n",
    "\n",
    "#labeling\n",
    "ax[0].set_title(\"2020 COVID Cases by Regions in the U.S\", fontweight = \"bold\", size = 15);\n",
    "ax[0].set_xlabel(\"Regions\", size = 12, fontweight = \"bold\");\n",
    "ax[0].set_ylabel(\"Sum of Covide Cases ($10^x$)\", size =12, fontweight = \"bold\");\n",
    "\n",
    "ax[1].set_title(\"2020 COVID Deaths by Regions in the U.S\", fontweight = \"bold\", size = 15);\n",
    "ax[1].set_xlabel(\"Regions\", size = 12, fontweight = \"bold\");\n",
    "ax[1].set_ylabel(\"Sum of Covide Deaths ($10^x$)\", size =12, fontweight = \"bold\");\n",
    "\n",
    "\n",
    "\n",
    "\n",
    "plt.show()"
   ]
  },
  {
   "cell_type": "markdown",
   "metadata": {},
   "source": [
    "## What is the relationship between number of deaths and cases?\n",
    "\n",
    "- There is seems to be a positive linear relationship between deaths and cases for COVID in the Northeast, as indicated by the orange color. As the number of cases goes up, the number of deaths goes up\n",
    "- There is a cluster identified in the region encapsulated by (0,0) and (400000,10000) for COVID cases and deaths in the Midwest, as indicated by the light blue color\n",
    "- The extreme COVID cases (> 800,000) were coming from the South and the West, as indicated by the light green and dark green colors\n",
    "- Interesting, in Northeast regions, the deaths reached of over 15,000 with only ~200,000 cases . The same amount of deaths would requires >700,000 cases in the South and West Region"
   ]
  },
  {
   "cell_type": "code",
   "execution_count": 270,
   "metadata": {
    "ExecuteTime": {
     "end_time": "2020-11-01T17:38:57.479242Z",
     "start_time": "2020-11-01T17:38:57.435453Z"
    }
   },
   "outputs": [
    {
     "data": {
      "text/html": [
       "\n",
       "<div id=\"altair-viz-e91f7b159d5c449081d09cff22c1a0e6\"></div>\n",
       "<script type=\"text/javascript\">\n",
       "  (function(spec, embedOpt){\n",
       "    let outputDiv = document.currentScript.previousElementSibling;\n",
       "    if (outputDiv.id !== \"altair-viz-e91f7b159d5c449081d09cff22c1a0e6\") {\n",
       "      outputDiv = document.getElementById(\"altair-viz-e91f7b159d5c449081d09cff22c1a0e6\");\n",
       "    }\n",
       "    const paths = {\n",
       "      \"vega\": \"https://cdn.jsdelivr.net/npm//vega@5?noext\",\n",
       "      \"vega-lib\": \"https://cdn.jsdelivr.net/npm//vega-lib?noext\",\n",
       "      \"vega-lite\": \"https://cdn.jsdelivr.net/npm//vega-lite@4.8.1?noext\",\n",
       "      \"vega-embed\": \"https://cdn.jsdelivr.net/npm//vega-embed@6?noext\",\n",
       "    };\n",
       "\n",
       "    function loadScript(lib) {\n",
       "      return new Promise(function(resolve, reject) {\n",
       "        var s = document.createElement('script');\n",
       "        s.src = paths[lib];\n",
       "        s.async = true;\n",
       "        s.onload = () => resolve(paths[lib]);\n",
       "        s.onerror = () => reject(`Error loading script: ${paths[lib]}`);\n",
       "        document.getElementsByTagName(\"head\")[0].appendChild(s);\n",
       "      });\n",
       "    }\n",
       "\n",
       "    function showError(err) {\n",
       "      outputDiv.innerHTML = `<div class=\"error\" style=\"color:red;\">${err}</div>`;\n",
       "      throw err;\n",
       "    }\n",
       "\n",
       "    function displayChart(vegaEmbed) {\n",
       "      vegaEmbed(outputDiv, spec, embedOpt)\n",
       "        .catch(err => showError(`Javascript Error: ${err.message}<br>This usually means there's a typo in your chart specification. See the javascript console for the full traceback.`));\n",
       "    }\n",
       "\n",
       "    if(typeof define === \"function\" && define.amd) {\n",
       "      requirejs.config({paths});\n",
       "      require([\"vega-embed\"], displayChart, err => showError(`Error loading script: ${err.message}`));\n",
       "    } else if (typeof vegaEmbed === \"function\") {\n",
       "      displayChart(vegaEmbed);\n",
       "    } else {\n",
       "      loadScript(\"vega\")\n",
       "        .then(() => loadScript(\"vega-lite\"))\n",
       "        .then(() => loadScript(\"vega-embed\"))\n",
       "        .catch(showError)\n",
       "        .then(() => displayChart(vegaEmbed));\n",
       "    }\n",
       "  })({\"config\": {\"view\": {\"continuousWidth\": 400, \"continuousHeight\": 300}}, \"data\": {\"name\": \"data-fcaa1acdb69b1ca3cf220348a0e55b09\"}, \"mark\": \"point\", \"encoding\": {\"color\": {\"type\": \"nominal\", \"field\": \"state_mapped\"}, \"x\": {\"type\": \"quantitative\", \"field\": \"cases\"}, \"y\": {\"type\": \"quantitative\", \"field\": \"deaths\"}}, \"selection\": {\"selector013\": {\"type\": \"interval\", \"bind\": \"scales\", \"encodings\": [\"x\", \"y\"]}}, \"$schema\": \"https://vega.github.io/schema/vega-lite/v4.8.1.json\", \"datasets\": {\"data-fcaa1acdb69b1ca3cf220348a0e55b09\": [{\"date\": \"10/18/2020\", \"state\": \"Alabama\", \"id\": 1, \"cases\": 172626, \"deaths\": 2788, \"state_mapped\": \"South\", \"color\": \"red\", \"cases_log_scale\": 5.237106207405509, \"deaths_log_scale\": 3.4452927694259716}, {\"date\": \"10/18/2020\", \"state\": \"Alaska\", \"id\": 2, \"cases\": 11934, \"deaths\": 63, \"state_mapped\": \"West\", \"color\": \"red\", \"cases_log_scale\": 4.076786033508079, \"deaths_log_scale\": 1.7993405494535817}, {\"date\": \"10/18/2020\", \"state\": \"Arizona\", \"id\": 4, \"cases\": 231149, \"deaths\": 5827, \"state_mapped\": \"West\", \"color\": \"red\", \"cases_log_scale\": 5.3638920189273716, \"deaths_log_scale\": 3.76544501809015}, {\"date\": \"10/18/2020\", \"state\": \"Arkansas\", \"id\": 5, \"cases\": 99066, \"deaths\": 1704, \"state_mapped\": \"South\", \"color\": \"red\", \"cases_log_scale\": 4.995924627785139, \"deaths_log_scale\": 3.2314695904306814}, {\"date\": \"10/18/2020\", \"state\": \"California\", \"id\": 6, \"cases\": 878346, \"deaths\": 16979, \"state_mapped\": \"West\", \"color\": \"red\", \"cases_log_scale\": 5.94366562785407, \"deaths_log_scale\": 4.229912108330147}, {\"date\": \"10/18/2020\", \"state\": \"Colorado\", \"id\": 8, \"cases\": 85803, \"deaths\": 2199, \"state_mapped\": \"West\", \"color\": \"red\", \"cases_log_scale\": 4.9335024727049825, \"deaths_log_scale\": 3.3422252293607904}, {\"date\": \"10/18/2020\", \"state\": \"Connecticut\", \"id\": 9, \"cases\": 62830, \"deaths\": 4542, \"state_mapped\": \"Northeast\", \"color\": \"grey\", \"cases_log_scale\": 4.798167059715939, \"deaths_log_scale\": 3.6572471298837166}, {\"date\": \"10/18/2020\", \"state\": \"Delaware\", \"id\": 10, \"cases\": 23093, \"deaths\": 665, \"state_mapped\": \"South\", \"color\": \"red\", \"cases_log_scale\": 4.3634803555596005, \"deaths_log_scale\": 2.8228216453031045}, {\"date\": \"10/18/2020\", \"state\": \"District of Columbia\", \"id\": 11, \"cases\": 16370, \"deaths\": 641, \"state_mapped\": \"Non-official US States\", \"color\": \"Not an official US State\", \"cases_log_scale\": 4.214048679411942, \"deaths_log_scale\": 2.8068580295188172}, {\"date\": \"10/18/2020\", \"state\": \"Florida\", \"id\": 12, \"cases\": 755012, \"deaths\": 15966, \"state_mapped\": \"South\", \"color\": \"red\", \"cases_log_scale\": 5.877953854268085, \"deaths_log_scale\": 4.203196124935032}, {\"date\": \"10/18/2020\", \"state\": \"Georgia\", \"id\": 13, \"cases\": 326080, \"deaths\": 7460, \"state_mapped\": \"South\", \"color\": \"red\", \"cases_log_scale\": 5.513324162326333, \"deaths_log_scale\": 3.8727388274726686}, {\"date\": \"10/18/2020\", \"state\": \"Guam\", \"id\": 66, \"cases\": 4507, \"deaths\": 64, \"state_mapped\": \"Non-official US States\", \"color\": \"Not an official US State\", \"cases_log_scale\": 3.6538875580709775, \"deaths_log_scale\": 1.806179973983887}, {\"date\": \"10/18/2020\", \"state\": \"Hawaii\", \"id\": 15, \"cases\": 14183, \"deaths\": 186, \"state_mapped\": \"West\", \"color\": \"red\", \"cases_log_scale\": 4.151768102895178, \"deaths_log_scale\": 2.2695129442179165}, {\"date\": \"10/18/2020\", \"state\": \"Idaho\", \"id\": 16, \"cases\": 53092, \"deaths\": 532, \"state_mapped\": \"West\", \"color\": \"red\", \"cases_log_scale\": 4.725029085721709, \"deaths_log_scale\": 2.7259116322950483}, {\"date\": \"10/18/2020\", \"state\": \"Illinois\", \"id\": 17, \"cases\": 348870, \"deaths\": 9491, \"state_mapped\": \"Midwest\", \"color\": \"grey\", \"cases_log_scale\": 5.5426636252388, \"deaths_log_scale\": 3.977311973396926}, {\"date\": \"10/18/2020\", \"state\": \"Indiana\", \"id\": 18, \"cases\": 150005, \"deaths\": 3937, \"state_mapped\": \"Midwest\", \"color\": \"grey\", \"cases_log_scale\": 5.176105735297142, \"deaths_log_scale\": 3.5951654147902294}, {\"date\": \"10/18/2020\", \"state\": \"Iowa\", \"id\": 19, \"cases\": 107334, \"deaths\": 1532, \"state_mapped\": \"Midwest\", \"color\": \"grey\", \"cases_log_scale\": 5.030737314449046, \"deaths_log_scale\": 3.185258765296585}, {\"date\": \"10/18/2020\", \"state\": \"Kansas\", \"id\": 20, \"cases\": 72722, \"deaths\": 859, \"state_mapped\": \"Midwest\", \"color\": \"grey\", \"cases_log_scale\": 4.861665814342345, \"deaths_log_scale\": 2.9339931638312424}, {\"date\": \"10/18/2020\", \"state\": \"Kentucky\", \"id\": 21, \"cases\": 89538, \"deaths\": 1372, \"state_mapped\": \"South\", \"color\": \"red\", \"cases_log_scale\": 4.952007389369913, \"deaths_log_scale\": 3.137354111370733}, {\"date\": \"10/18/2020\", \"state\": \"Louisiana\", \"id\": 22, \"cases\": 178869, \"deaths\": 5750, \"state_mapped\": \"South\", \"color\": \"red\", \"cases_log_scale\": 5.252535078993716, \"deaths_log_scale\": 3.7596678446896306}, {\"date\": \"10/18/2020\", \"state\": \"Maine\", \"id\": 23, \"cases\": 5939, \"deaths\": 146, \"state_mapped\": \"Northeast\", \"color\": \"grey\", \"cases_log_scale\": 3.7737133252770216, \"deaths_log_scale\": 2.164352855784437}, {\"date\": \"10/18/2020\", \"state\": \"Maryland\", \"id\": 24, \"cases\": 136149, \"deaths\": 4037, \"state_mapped\": \"South\", \"color\": \"red\", \"cases_log_scale\": 5.134014455840678, \"deaths_log_scale\": 3.6060587494103142}, {\"date\": \"10/18/2020\", \"state\": \"Massachusetts\", \"id\": 25, \"cases\": 143660, \"deaths\": 9737, \"state_mapped\": \"Northeast\", \"color\": \"grey\", \"cases_log_scale\": 5.1573358620972805, \"deaths_log_scale\": 3.988425170006303}, {\"date\": \"10/18/2020\", \"state\": \"Michigan\", \"id\": 26, \"cases\": 159337, \"deaths\": 7323, \"state_mapped\": \"Midwest\", \"color\": \"grey\", \"cases_log_scale\": 5.202316636001941, \"deaths_log_scale\": 3.864689034136851}, {\"date\": \"10/18/2020\", \"state\": \"Minnesota\", \"id\": 27, \"cases\": 122865, \"deaths\": 2287, \"state_mapped\": \"Midwest\", \"color\": \"grey\", \"cases_log_scale\": 5.0894281849883045, \"deaths_log_scale\": 3.3592661646067485}, {\"date\": \"10/18/2020\", \"state\": \"Mississippi\", \"id\": 28, \"cases\": 110006, \"deaths\": 3171, \"state_mapped\": \"South\", \"color\": \"red\", \"cases_log_scale\": 5.041416373302113, \"deaths_log_scale\": 3.501196242027089}, {\"date\": \"10/18/2020\", \"state\": \"Missouri\", \"id\": 29, \"cases\": 162156, \"deaths\": 2648, \"state_mapped\": \"Midwest\", \"color\": \"grey\", \"cases_log_scale\": 5.209933022812768, \"deaths_log_scale\": 3.422917980767662}, {\"date\": \"10/18/2020\", \"state\": \"Montana\", \"id\": 30, \"cases\": 22821, \"deaths\": 241, \"state_mapped\": \"West\", \"color\": \"red\", \"cases_log_scale\": 4.358334670974681, \"deaths_log_scale\": 2.3820170425748683}, {\"date\": \"10/18/2020\", \"state\": \"Nebraska\", \"id\": 31, \"cases\": 58068, \"deaths\": 557, \"state_mapped\": \"Midwest\", \"color\": \"grey\", \"cases_log_scale\": 4.763936868156248, \"deaths_log_scale\": 2.745855195173729}, {\"date\": \"10/18/2020\", \"state\": \"Nevada\", \"id\": 32, \"cases\": 90374, \"deaths\": 1711, \"state_mapped\": \"West\", \"color\": \"red\", \"cases_log_scale\": 4.956043504804555, \"deaths_log_scale\": 3.2332500095411003}, {\"date\": \"10/18/2020\", \"state\": \"New Hampshire\", \"id\": 33, \"cases\": 9694, \"deaths\": 467, \"state_mapped\": \"Northeast\", \"color\": \"grey\", \"cases_log_scale\": 3.9865030153867402, \"deaths_log_scale\": 2.6693168805661123}, {\"date\": \"10/18/2020\", \"state\": \"New Jersey\", \"id\": 34, \"cases\": 221802, \"deaths\": 16211, \"state_mapped\": \"Northeast\", \"color\": \"grey\", \"cases_log_scale\": 5.345965457886395, \"deaths_log_scale\": 4.20980980578538}, {\"date\": \"10/18/2020\", \"state\": \"New Mexico\", \"id\": 35, \"cases\": 36788, \"deaths\": 934, \"state_mapped\": \"West\", \"color\": \"red\", \"cases_log_scale\": 4.565706177812806, \"deaths_log_scale\": 2.9703468762300935}, {\"date\": \"10/18/2020\", \"state\": \"New York\", \"id\": 36, \"cases\": 489016, \"deaths\": 32972, \"state_mapped\": \"Northeast\", \"color\": \"grey\", \"cases_log_scale\": 5.689323068935548, \"deaths_log_scale\": 4.518145291171665}, {\"date\": \"10/18/2020\", \"state\": \"North Carolina\", \"id\": 37, \"cases\": 246116, \"deaths\": 3961, \"state_mapped\": \"South\", \"color\": \"red\", \"cases_log_scale\": 5.391139848102793, \"deaths_log_scale\": 3.597804842404293}, {\"date\": \"10/18/2020\", \"state\": \"North Dakota\", \"id\": 38, \"cases\": 31983, \"deaths\": 409, \"state_mapped\": \"Midwest\", \"color\": \"grey\", \"cases_log_scale\": 4.504919198069961, \"deaths_log_scale\": 2.611723308007342}, {\"date\": \"10/18/2020\", \"state\": \"Northern Mariana Islands\", \"id\": 69, \"cases\": 86, \"deaths\": 2, \"state_mapped\": \"Non-official US States\", \"color\": \"Not an official US State\", \"cases_log_scale\": 1.9344984512435677, \"deaths_log_scale\": 0.3010299956639812}, {\"date\": \"10/18/2020\", \"state\": \"Ohio\", \"id\": 39, \"cases\": 181787, \"deaths\": 5067, \"state_mapped\": \"Midwest\", \"color\": \"grey\", \"cases_log_scale\": 5.2595628226145905, \"deaths_log_scale\": 3.704750904290671}, {\"date\": \"10/18/2020\", \"state\": \"Oklahoma\", \"id\": 40, \"cases\": 107299, \"deaths\": 1171, \"state_mapped\": \"South\", \"color\": \"red\", \"cases_log_scale\": 5.030595674468228, \"deaths_log_scale\": 3.068556895072363}, {\"date\": \"10/18/2020\", \"state\": \"Oregon\", \"id\": 41, \"cases\": 39532, \"deaths\": 622, \"state_mapped\": \"West\", \"color\": \"red\", \"cases_log_scale\": 4.596948786692873, \"deaths_log_scale\": 2.7937903846908188}, {\"date\": \"10/18/2020\", \"state\": \"Pennsylvania\", \"id\": 42, \"cases\": 186772, \"deaths\": 8555, \"state_mapped\": \"Northeast\", \"color\": \"grey\", \"cases_log_scale\": 5.271311769340799, \"deaths_log_scale\": 3.932220013877119}, {\"date\": \"10/18/2020\", \"state\": \"Puerto Rico\", \"id\": 72, \"cases\": 57293, \"deaths\": 766, \"state_mapped\": \"Non-official US States\", \"color\": \"Not an official US State\", \"cases_log_scale\": 4.758101563554099, \"deaths_log_scale\": 2.884228769632604}, {\"date\": \"10/18/2020\", \"state\": \"Rhode Island\", \"id\": 44, \"cases\": 27691, \"deaths\": 1152, \"state_mapped\": \"Northeast\", \"color\": \"grey\", \"cases_log_scale\": 4.442338639625676, \"deaths_log_scale\": 3.061452479087193}, {\"date\": \"10/18/2020\", \"state\": \"South Carolina\", \"id\": 45, \"cases\": 163990, \"deaths\": 3650, \"state_mapped\": \"South\", \"color\": \"red\", \"cases_log_scale\": 5.214817365869458, \"deaths_log_scale\": 3.5622928644564746}, {\"date\": \"10/18/2020\", \"state\": \"South Dakota\", \"id\": 46, \"cases\": 33269, \"deaths\": 323, \"state_mapped\": \"Midwest\", \"color\": \"grey\", \"cases_log_scale\": 4.522039747036275, \"deaths_log_scale\": 2.509202522331103}, {\"date\": \"10/18/2020\", \"state\": \"Tennessee\", \"id\": 47, \"cases\": 225126, \"deaths\": 2884, \"state_mapped\": \"South\", \"color\": \"red\", \"cases_log_scale\": 5.352425654949266, \"deaths_log_scale\": 3.4599952560473914}, {\"date\": \"10/18/2020\", \"state\": \"Texas\", \"id\": 48, \"cases\": 868917, \"deaths\": 17541, \"state_mapped\": \"South\", \"color\": \"red\", \"cases_log_scale\": 5.938978294097064, \"deaths_log_scale\": 4.244054348556946}, {\"date\": \"10/18/2020\", \"state\": \"Utah\", \"id\": 49, \"cases\": 94394, \"deaths\": 544, \"state_mapped\": \"West\", \"color\": \"red\", \"cases_log_scale\": 4.974944389957971, \"deaths_log_scale\": 2.73559889969818}, {\"date\": \"10/18/2020\", \"state\": \"Vermont\", \"id\": 50, \"cases\": 1937, \"deaths\": 58, \"state_mapped\": \"Northeast\", \"color\": \"grey\", \"cases_log_scale\": 3.287129620719111, \"deaths_log_scale\": 1.7634279935629373}, {\"date\": \"10/18/2020\", \"state\": \"Virgin Islands\", \"id\": 78, \"cases\": 1335, \"deaths\": 21, \"state_mapped\": \"Non-official US States\", \"color\": \"Not an official US State\", \"cases_log_scale\": 3.125481265700594, \"deaths_log_scale\": 1.3222192947339193}, {\"date\": \"10/18/2020\", \"state\": \"Virginia\", \"id\": 51, \"cases\": 166138, \"deaths\": 3433, \"state_mapped\": \"South\", \"color\": \"red\", \"cases_log_scale\": 5.220468978043315, \"deaths_log_scale\": 3.53567380342575}, {\"date\": \"10/18/2020\", \"state\": \"Washington\", \"id\": 53, \"cases\": 102403, \"deaths\": 2339, \"state_mapped\": \"West\", \"color\": \"red\", \"cases_log_scale\": 5.010312679924586, \"deaths_log_scale\": 3.3690302218091532}, {\"date\": \"10/18/2020\", \"state\": \"West Virginia\", \"id\": 54, \"cases\": 20081, \"deaths\": 399, \"state_mapped\": \"South\", \"color\": \"red\", \"cases_log_scale\": 4.302785336145699, \"deaths_log_scale\": 2.6009728956867484}, {\"date\": \"10/18/2020\", \"state\": \"Wisconsin\", \"id\": 55, \"cases\": 175652, \"deaths\": 1588, \"state_mapped\": \"Midwest\", \"color\": \"grey\", \"cases_log_scale\": 5.2446530990982625, \"deaths_log_scale\": 3.2008504980910772}, {\"date\": \"10/18/2020\", \"state\": \"Wyoming\", \"id\": 56, \"cases\": 9025, \"deaths\": 57, \"state_mapped\": \"West\", \"color\": \"red\", \"cases_log_scale\": 3.9554472105776957, \"deaths_log_scale\": 1.7558748556724915}]}}, {\"mode\": \"vega-lite\"});\n",
       "</script>"
      ],
      "text/plain": [
       "alt.Chart(...)"
      ]
     },
     "execution_count": 270,
     "metadata": {},
     "output_type": "execute_result"
    }
   ],
   "source": [
    "alt.Chart(df).mark_point().encode(\n",
    "    x = \"cases\",\n",
    "    y = \"deaths\",\n",
    "    color = \"state_mapped\"\n",
    ").interactive()"
   ]
  }
 ],
 "metadata": {
  "hide_input": false,
  "kernelspec": {
   "display_name": "Python 3",
   "language": "python",
   "name": "python3"
  },
  "language_info": {
   "codemirror_mode": {
    "name": "ipython",
    "version": 3
   },
   "file_extension": ".py",
   "mimetype": "text/x-python",
   "name": "python",
   "nbconvert_exporter": "python",
   "pygments_lexer": "ipython3",
   "version": "3.8.3"
  },
  "toc": {
   "base_numbering": 1,
   "nav_menu": {},
   "number_sections": true,
   "sideBar": true,
   "skip_h1_title": false,
   "title_cell": "Table of Contents",
   "title_sidebar": "Contents",
   "toc_cell": false,
   "toc_position": {},
   "toc_section_display": true,
   "toc_window_display": false
  }
 },
 "nbformat": 4,
 "nbformat_minor": 4
}
