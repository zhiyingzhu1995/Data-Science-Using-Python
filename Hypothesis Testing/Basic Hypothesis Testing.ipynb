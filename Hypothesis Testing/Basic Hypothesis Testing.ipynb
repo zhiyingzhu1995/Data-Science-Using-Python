{
 "cells": [
  {
   "cell_type": "code",
   "execution_count": 2,
   "metadata": {
    "ExecuteTime": {
     "end_time": "2021-01-07T20:45:29.915395Z",
     "start_time": "2021-01-07T20:45:27.102353Z"
    }
   },
   "outputs": [],
   "source": [
    "import pandas as pd\n",
    "import numpy as np\n",
    "import matplotlib.pyplot as plt"
   ]
  },
  {
   "cell_type": "markdown",
   "metadata": {},
   "source": [
    "# Hypothesis Testing"
   ]
  },
  {
   "cell_type": "markdown",
   "metadata": {},
   "source": [
    "## Example: Tests whether two samples have a linear relationship\n",
    "\n",
    "`Pearson R`\n",
    "- $H_0:$ The two samples are independent\n",
    "- $H_A:$ The two samples are dependent"
   ]
  },
  {
   "cell_type": "code",
   "execution_count": 5,
   "metadata": {
    "ExecuteTime": {
     "end_time": "2021-01-07T20:46:02.276665Z",
     "start_time": "2021-01-07T20:46:02.266949Z"
    }
   },
   "outputs": [],
   "source": [
    "#read in the data\n",
    "full_data = pd.read_csv(\"/Users/zhiying/Documents/OneDrive - The City College of New York/DSE 103 - Applied Stats/Projects/Project 1/exams.csv\")\n",
    "\n"
   ]
  },
  {
   "cell_type": "code",
   "execution_count": 9,
   "metadata": {
    "ExecuteTime": {
     "end_time": "2021-01-07T21:02:15.988615Z",
     "start_time": "2021-01-07T21:02:10.114753Z"
    }
   },
   "outputs": [
    {
     "name": "stdout",
     "output_type": "stream",
     "text": [
      "The Pearson R value is 0.69 and a p_value 0.03\n",
      "Reject the null, two samples are statistically dependent.\n"
     ]
    }
   ],
   "source": [
    "from scipy.stats import pearsonr\n",
    "\n",
    "#dummy data\n",
    "data1 = [0.873, 2.817, 0.121, -0.945, -0.055, -1.436, 0.360, -1.478, -1.637, -1.869]\n",
    "data2 = [0.353, 3.517, 0.125, -7.545, -0.555, -1.536, 3.350, -1.578, -3.537, -1.579]\n",
    "\n",
    "#calculate the pearson R value between these two lists\n",
    "r, p = pearsonr(data1,data2)\n",
    "\n",
    "#print the finding\n",
    "print(\"The Pearson R value is %.2f and a p_value %.2f\"%(r,p))\n",
    "if p>0.05:\n",
    "    print(\"Accept the null, two samples are statistically independent.\")\n",
    "else:\n",
    "    print(\"Reject the null, two samples are statistically dependent.\")"
   ]
  },
  {
   "cell_type": "markdown",
   "metadata": {},
   "source": [
    "## Example: Tests whether two categorical/ordinal variables are related or independent\n",
    "\n",
    "`(Chi-Square)`\n",
    "- $H_0:$ The two samples are independent\n",
    "- $H_A:$ The two samples have dependency"
   ]
  },
  {
   "cell_type": "code",
   "execution_count": 10,
   "metadata": {
    "ExecuteTime": {
     "end_time": "2021-01-07T21:02:45.120051Z",
     "start_time": "2021-01-07T21:02:45.114283Z"
    }
   },
   "outputs": [
    {
     "name": "stdout",
     "output_type": "stream",
     "text": [
      "stat=0.272, p=0.873\n",
      "Accept the null, two samples are statistically independent.\n"
     ]
    }
   ],
   "source": [
    "from scipy.stats import chi2_contingency\n",
    "\n",
    "#dummy data of R x C contigency table\n",
    "table = [[10, 20, 30],[6,  9,  17]]\n",
    "stat, p, dof, expected = chi2_contingency(table)\n",
    "\n",
    "#print the finding\n",
    "print('stat=%.3f, p=%.3f' % (stat, p))\n",
    "\n",
    "if p>0.05:\n",
    "    print(\"Accept the null, two samples are statistically independent.\")\n",
    "else:\n",
    "    print(\"Reject the null, two samples are statistically dependent.\")"
   ]
  },
  {
   "cell_type": "markdown",
   "metadata": {},
   "source": [
    "## Example: Tests whether the means of two independent samples are significantly different \n",
    "`(student-t)`\n",
    "- $H_0:$ The means of the two samples are equal ($\\mu_1 - \\mu_2 = 0$)\n",
    "- $H_A:$ The means of the two samples are unequal ($\\mu_1 - \\mu_2 \\neq 0$)"
   ]
  },
  {
   "cell_type": "code",
   "execution_count": 11,
   "metadata": {
    "ExecuteTime": {
     "end_time": "2021-01-07T21:03:05.874647Z",
     "start_time": "2021-01-07T21:03:05.868320Z"
    }
   },
   "outputs": [
    {
     "name": "stdout",
     "output_type": "stream",
     "text": [
      "stat=-0.326, p=0.748\n",
      "Accept the null, the two samples have the same mean, probably from the same distribution\n"
     ]
    }
   ],
   "source": [
    "from scipy.stats import ttest_ind\n",
    "\n",
    "#dummy data\n",
    "data1 = [0.873, 2.817, 0.121, -0.945, -0.055, -1.436, 0.360, -1.478, -1.637, -1.869]\n",
    "data2 = [1.142, -0.432, -0.938, -0.729, -0.846, -0.157, 0.500, 1.183, -1.075, -0.169]\n",
    "stat, p = ttest_ind(data1, data2)\n",
    "\n",
    "#print the findings\n",
    "print('stat=%.3f, p=%.3f' % (stat, p))\n",
    "if p > 0.05:\n",
    "    print('Accept the null, the two samples have the same mean, probably from the same distribution')\n",
    "else:\n",
    "    print('Reject the null, the two samples have different mean, probably from different distribution')\n"
   ]
  }
 ],
 "metadata": {
  "hide_input": false,
  "kernelspec": {
   "display_name": "Python 3",
   "language": "python",
   "name": "python3"
  },
  "language_info": {
   "codemirror_mode": {
    "name": "ipython",
    "version": 3
   },
   "file_extension": ".py",
   "mimetype": "text/x-python",
   "name": "python",
   "nbconvert_exporter": "python",
   "pygments_lexer": "ipython3",
   "version": "3.8.3"
  },
  "toc": {
   "base_numbering": 1,
   "nav_menu": {},
   "number_sections": true,
   "sideBar": true,
   "skip_h1_title": false,
   "title_cell": "Table of Contents",
   "title_sidebar": "Contents",
   "toc_cell": false,
   "toc_position": {},
   "toc_section_display": true,
   "toc_window_display": false
  }
 },
 "nbformat": 4,
 "nbformat_minor": 4
}
