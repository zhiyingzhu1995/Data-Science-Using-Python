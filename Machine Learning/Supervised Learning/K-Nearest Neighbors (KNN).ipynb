{
 "cells": [
  {
   "cell_type": "code",
   "execution_count": 11,
   "metadata": {
    "ExecuteTime": {
     "end_time": "2021-01-14T18:03:38.703548Z",
     "start_time": "2021-01-14T18:03:38.693260Z"
    }
   },
   "outputs": [],
   "source": [
    "from sklearn.metrics import classification_report\n",
    "from sklearn.neighbors import KNeighborsClassifier\n",
    "from sklearn.model_selection import GridSearchCV\n",
    "from sklearn.model_selection import train_test_split\n",
    "from sklearn.metrics import accuracy_score\n",
    "from sklearn.datasets import load_breast_cancer\n",
    "import pandas as pd\n",
    "import numpy as np\n",
    "import matplotlib.pyplot as plt\n",
    "import seaborn as sns\n",
    "from sklearn.preprocessing import StandardScaler\n",
    "%matplotlib inline"
   ]
  },
  {
   "cell_type": "markdown",
   "metadata": {},
   "source": [
    "##  k-nearest neighbors KNN\n",
    "- use data from this link https://scikit-learn.org/stable/modules/generated/sklearn.datasets.load_breast_cancer.html#sklearn.datasets.load_breast_cancer\n"
   ]
  },
  {
   "cell_type": "code",
   "execution_count": 7,
   "metadata": {
    "ExecuteTime": {
     "end_time": "2021-01-14T18:02:37.859636Z",
     "start_time": "2021-01-14T18:02:37.837930Z"
    }
   },
   "outputs": [],
   "source": [
    "cancer = load_breast_cancer(as_frame=True)\n",
    "cancer_x = cancer.data\n",
    "cancer_y = cancer.target"
   ]
  },
  {
   "cell_type": "code",
   "execution_count": 8,
   "metadata": {
    "ExecuteTime": {
     "end_time": "2021-01-14T18:02:47.743151Z",
     "start_time": "2021-01-14T18:02:47.727695Z"
    }
   },
   "outputs": [
    {
     "name": "stdout",
     "output_type": "stream",
     "text": [
      "<class 'pandas.core.frame.DataFrame'>\n",
      "RangeIndex: 569 entries, 0 to 568\n",
      "Data columns (total 30 columns):\n",
      " #   Column                   Non-Null Count  Dtype  \n",
      "---  ------                   --------------  -----  \n",
      " 0   mean radius              569 non-null    float64\n",
      " 1   mean texture             569 non-null    float64\n",
      " 2   mean perimeter           569 non-null    float64\n",
      " 3   mean area                569 non-null    float64\n",
      " 4   mean smoothness          569 non-null    float64\n",
      " 5   mean compactness         569 non-null    float64\n",
      " 6   mean concavity           569 non-null    float64\n",
      " 7   mean concave points      569 non-null    float64\n",
      " 8   mean symmetry            569 non-null    float64\n",
      " 9   mean fractal dimension   569 non-null    float64\n",
      " 10  radius error             569 non-null    float64\n",
      " 11  texture error            569 non-null    float64\n",
      " 12  perimeter error          569 non-null    float64\n",
      " 13  area error               569 non-null    float64\n",
      " 14  smoothness error         569 non-null    float64\n",
      " 15  compactness error        569 non-null    float64\n",
      " 16  concavity error          569 non-null    float64\n",
      " 17  concave points error     569 non-null    float64\n",
      " 18  symmetry error           569 non-null    float64\n",
      " 19  fractal dimension error  569 non-null    float64\n",
      " 20  worst radius             569 non-null    float64\n",
      " 21  worst texture            569 non-null    float64\n",
      " 22  worst perimeter          569 non-null    float64\n",
      " 23  worst area               569 non-null    float64\n",
      " 24  worst smoothness         569 non-null    float64\n",
      " 25  worst compactness        569 non-null    float64\n",
      " 26  worst concavity          569 non-null    float64\n",
      " 27  worst concave points     569 non-null    float64\n",
      " 28  worst symmetry           569 non-null    float64\n",
      " 29  worst fractal dimension  569 non-null    float64\n",
      "dtypes: float64(30)\n",
      "memory usage: 133.5 KB\n"
     ]
    }
   ],
   "source": [
    "cancer_x.info()"
   ]
  },
  {
   "cell_type": "code",
   "execution_count": 12,
   "metadata": {
    "ExecuteTime": {
     "end_time": "2021-01-14T18:03:42.011529Z",
     "start_time": "2021-01-14T18:03:40.556597Z"
    }
   },
   "outputs": [
    {
     "name": "stdout",
     "output_type": "stream",
     "text": [
      "{'n_neighbors': 4}\n",
      "0.9736263736263737\n"
     ]
    }
   ],
   "source": [
    "#Find the best hyper-parameter for n_neighbors\n",
    "\n",
    "#standardize the data\n",
    "cancer_x_norm = StandardScaler().fit_transform(cancer_x)\n",
    "\n",
    "#have 50 number of clusters to try\n",
    "parameters = {'n_neighbors': np.arange(1,50)}\n",
    "\n",
    "#train_test_split\n",
    "X_train, X_test, Y_train, Y_test = train_test_split(cancer_x_norm, cancer_y, test_size = 0.2, random_state = 3)\n",
    "\n",
    "#Instantiate the knn\n",
    "knn = KNeighborsClassifier()\n",
    "\n",
    "\n",
    "#create the hyperparameter grid\n",
    "knn_cv = GridSearchCV(knn, param_grid = parameters, cv=5);\n",
    "\n",
    "#fit the train sets\n",
    "knn_cv.fit(X_train, Y_train) \n",
    "\n",
    "#find the best k_neighbors\n",
    "print(knn_cv.best_params_)\n",
    "\n",
    "#find the best fitting score\n",
    "print(knn_cv.best_score_)"
   ]
  },
  {
   "cell_type": "code",
   "execution_count": 18,
   "metadata": {
    "ExecuteTime": {
     "end_time": "2021-01-14T18:07:03.929065Z",
     "start_time": "2021-01-14T18:07:03.877140Z"
    }
   },
   "outputs": [
    {
     "name": "stdout",
     "output_type": "stream",
     "text": [
      "Accuracy on the test set is 0.95\n",
      "Accuracy on the train set is 0.99 \n",
      "\n",
      "              precision    recall  f1-score   support\n",
      "\n",
      "           0       0.93      0.93      0.93        40\n",
      "           1       0.96      0.96      0.96        74\n",
      "\n",
      "    accuracy                           0.95       114\n",
      "   macro avg       0.94      0.94      0.94       114\n",
      "weighted avg       0.95      0.95      0.95       114\n",
      "\n"
     ]
    }
   ],
   "source": [
    "#from the code above we know most ideal \"n_neighbors\" is 4 \n",
    "knn = KNeighborsClassifier(n_neighbors = 4)\n",
    "\n",
    "#train the model\n",
    "knn.fit(X_train, Y_train) \n",
    "\n",
    "#predict on x-test to get y\n",
    "y_predict = knn.predict(X_test)\n",
    "\n",
    "#Get the accuracy score\n",
    "print(\"Accuracy on the test set is %.2f\"%knn.score(X_test, Y_test)) #Return the mean accuracy on the given test data and labels\n",
    "print(\"Accuracy on the train set is %.2f \\n\"%knn.score(X_train, Y_train))\n",
    "\n",
    "#get the classification report, y test, y test predicted\n",
    "report = (classification_report(Y_test,y_predict))\n",
    "\n",
    "print(report)"
   ]
  }
 ],
 "metadata": {
  "hide_input": false,
  "kernelspec": {
   "display_name": "Python 3",
   "language": "python",
   "name": "python3"
  },
  "language_info": {
   "codemirror_mode": {
    "name": "ipython",
    "version": 3
   },
   "file_extension": ".py",
   "mimetype": "text/x-python",
   "name": "python",
   "nbconvert_exporter": "python",
   "pygments_lexer": "ipython3",
   "version": "3.8.3"
  },
  "toc": {
   "base_numbering": 1,
   "nav_menu": {},
   "number_sections": true,
   "sideBar": true,
   "skip_h1_title": false,
   "title_cell": "Table of Contents",
   "title_sidebar": "Contents",
   "toc_cell": false,
   "toc_position": {},
   "toc_section_display": true,
   "toc_window_display": false
  }
 },
 "nbformat": 4,
 "nbformat_minor": 4
}
