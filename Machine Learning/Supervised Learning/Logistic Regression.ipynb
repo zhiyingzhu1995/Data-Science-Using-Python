{
 "cells": [
  {
   "cell_type": "markdown",
   "metadata": {},
   "source": [
    "## Logistic Regression\n",
    "- use data from this link https://scikit-learn.org/stable/modules/generated/sklearn.datasets.load_breast_cancer.html#sklearn.datasets.load_breast_cancer"
   ]
  },
  {
   "cell_type": "code",
   "execution_count": 1,
   "metadata": {
    "ExecuteTime": {
     "end_time": "2021-01-14T17:38:12.372328Z",
     "start_time": "2021-01-14T17:38:09.993944Z"
    }
   },
   "outputs": [],
   "source": [
    "from sklearn.datasets import load_breast_cancer"
   ]
  },
  {
   "cell_type": "code",
   "execution_count": 2,
   "metadata": {
    "ExecuteTime": {
     "end_time": "2021-01-14T17:38:16.808001Z",
     "start_time": "2021-01-14T17:38:15.645465Z"
    }
   },
   "outputs": [],
   "source": [
    "cancer = load_breast_cancer(as_frame=True)\n",
    "cancer_x = cancer.data\n",
    "cancer_y = cancer.target"
   ]
  },
  {
   "cell_type": "code",
   "execution_count": 3,
   "metadata": {
    "ExecuteTime": {
     "end_time": "2021-01-14T17:38:20.208053Z",
     "start_time": "2021-01-14T17:38:20.191690Z"
    }
   },
   "outputs": [
    {
     "name": "stdout",
     "output_type": "stream",
     "text": [
      "<class 'pandas.core.frame.DataFrame'>\n",
      "RangeIndex: 569 entries, 0 to 568\n",
      "Data columns (total 30 columns):\n",
      " #   Column                   Non-Null Count  Dtype  \n",
      "---  ------                   --------------  -----  \n",
      " 0   mean radius              569 non-null    float64\n",
      " 1   mean texture             569 non-null    float64\n",
      " 2   mean perimeter           569 non-null    float64\n",
      " 3   mean area                569 non-null    float64\n",
      " 4   mean smoothness          569 non-null    float64\n",
      " 5   mean compactness         569 non-null    float64\n",
      " 6   mean concavity           569 non-null    float64\n",
      " 7   mean concave points      569 non-null    float64\n",
      " 8   mean symmetry            569 non-null    float64\n",
      " 9   mean fractal dimension   569 non-null    float64\n",
      " 10  radius error             569 non-null    float64\n",
      " 11  texture error            569 non-null    float64\n",
      " 12  perimeter error          569 non-null    float64\n",
      " 13  area error               569 non-null    float64\n",
      " 14  smoothness error         569 non-null    float64\n",
      " 15  compactness error        569 non-null    float64\n",
      " 16  concavity error          569 non-null    float64\n",
      " 17  concave points error     569 non-null    float64\n",
      " 18  symmetry error           569 non-null    float64\n",
      " 19  fractal dimension error  569 non-null    float64\n",
      " 20  worst radius             569 non-null    float64\n",
      " 21  worst texture            569 non-null    float64\n",
      " 22  worst perimeter          569 non-null    float64\n",
      " 23  worst area               569 non-null    float64\n",
      " 24  worst smoothness         569 non-null    float64\n",
      " 25  worst compactness        569 non-null    float64\n",
      " 26  worst concavity          569 non-null    float64\n",
      " 27  worst concave points     569 non-null    float64\n",
      " 28  worst symmetry           569 non-null    float64\n",
      " 29  worst fractal dimension  569 non-null    float64\n",
      "dtypes: float64(30)\n",
      "memory usage: 133.5 KB\n"
     ]
    }
   ],
   "source": [
    "cancer_x.info()"
   ]
  },
  {
   "cell_type": "code",
   "execution_count": 6,
   "metadata": {
    "ExecuteTime": {
     "end_time": "2021-01-14T17:38:59.749539Z",
     "start_time": "2021-01-14T17:38:59.736796Z"
    }
   },
   "outputs": [],
   "source": [
    "from sklearn.feature_selection import RFE\n",
    "from sklearn.linear_model import LogisticRegression\n",
    "from sklearn.metrics import accuracy_score\n",
    "from sklearn.preprocessing import StandardScaler\n",
    "from sklearn.model_selection import train_test_split\n",
    "\n",
    "\n",
    "#standardize the data\n",
    "cancer_x_norm = StandardScaler().fit_transform(cancer_x)\n",
    "\n",
    "#train_test_split, cancer_y consistant of 0, 1, so no need to standardize\n",
    "X_train, X_test, Y_train, Y_test = train_test_split(cancer_x_norm, cancer_y, test_size = 0.2, random_state = 3)\n"
   ]
  },
  {
   "cell_type": "code",
   "execution_count": 7,
   "metadata": {
    "ExecuteTime": {
     "end_time": "2021-01-14T17:39:12.982856Z",
     "start_time": "2021-01-14T17:39:12.359776Z"
    }
   },
   "outputs": [
    {
     "name": "stdout",
     "output_type": "stream",
     "text": [
      "Fitting estimator with 30 features.\n",
      "Fitting estimator with 29 features.\n",
      "Fitting estimator with 28 features.\n",
      "Fitting estimator with 27 features.\n",
      "Fitting estimator with 26 features.\n",
      "Fitting estimator with 25 features.\n",
      "Fitting estimator with 24 features.\n",
      "Fitting estimator with 23 features.\n",
      "Fitting estimator with 22 features.\n",
      "Fitting estimator with 21 features.\n",
      "Fitting estimator with 20 features.\n",
      "Fitting estimator with 19 features.\n",
      "Fitting estimator with 18 features.\n",
      "Fitting estimator with 17 features.\n",
      "Fitting estimator with 16 features.\n",
      "Fitting estimator with 15 features.\n",
      "Fitting estimator with 14 features.\n",
      "Fitting estimator with 13 features.\n",
      "Fitting estimator with 12 features.\n",
      "Fitting estimator with 11 features.\n",
      "Fitting estimator with 10 features.\n",
      "Fitting estimator with 9 features.\n",
      "Fitting estimator with 8 features.\n",
      "Fitting estimator with 7 features.\n",
      "Fitting estimator with 6 features.\n",
      "Fitting estimator with 5 features.\n",
      "{'mean radius': 10, 'mean texture': 17, 'mean perimeter': 14, 'mean area': 5, 'mean smoothness': 25, 'mean compactness': 13, 'mean concavity': 15, 'mean concave points': 7, 'mean symmetry': 26, 'mean fractal dimension': 16, 'radius error': 2, 'texture error': 24, 'perimeter error': 9, 'area error': 6, 'smoothness error': 21, 'compactness error': 8, 'concavity error': 23, 'concave points error': 22, 'symmetry error': 18, 'fractal dimension error': 19, 'worst radius': 1, 'worst texture': 3, 'worst perimeter': 1, 'worst area': 1, 'worst smoothness': 1, 'worst compactness': 27, 'worst concavity': 4, 'worst concave points': 12, 'worst symmetry': 11, 'worst fractal dimension': 20}\n",
      "95.61% accuracy on test set\n"
     ]
    }
   ],
   "source": [
    "#Need to run a Recursive Feature Elimination Process to see which features we should select to model\n",
    "#LogisticRegression uses 0.5 probability as default to convert probability into classification\n",
    "\n",
    "rfe = RFE(estimator = LogisticRegression(), n_features_to_select = 4, verbose = 1); #select 4 features to model\n",
    "\n",
    "#fit the model\n",
    "logr = rfe.fit(X_train, Y_train);\n",
    "\n",
    "#print the features and their ranking (high = dropped early)\n",
    "print(dict(zip(cancer_x.columns, rfe.ranking_)));\n",
    "\n",
    "#calcualte the test set accuracy\n",
    "accuracy = accuracy_score(Y_test, rfe.predict(X_test)) *100\n",
    "print('%.2f%% accuracy on test set'%accuracy)"
   ]
  },
  {
   "cell_type": "code",
   "execution_count": 18,
   "metadata": {
    "ExecuteTime": {
     "end_time": "2021-01-14T17:45:38.132196Z",
     "start_time": "2021-01-14T17:45:37.990251Z"
    }
   },
   "outputs": [
    {
     "data": {
      "image/png": "[encoded data removed]",
      "text/plain": [
       "<Figure size 432x288 with 2 Axes>"
      ]
     },
     "metadata": {
      "needs_background": "light"
     },
     "output_type": "display_data"
    },
    {
     "name": "stdout",
     "output_type": "stream",
     "text": [
      "From the training set confusion matrix, we know the following: \n",
      " True Negative: 36 \n",
      " False Positive: 4 \n",
      " False Negative: 1 \n",
      " True Positive: 73\n",
      "\n",
      "              precision    recall  f1-score   support\n",
      "\n",
      "           0       0.97      0.90      0.94        40\n",
      "           1       0.95      0.99      0.97        74\n",
      "\n",
      "    accuracy                           0.96       114\n",
      "   macro avg       0.96      0.94      0.95       114\n",
      "weighted avg       0.96      0.96      0.96       114\n",
      "\n"
     ]
    }
   ],
   "source": [
    "from sklearn.metrics import confusion_matrix\n",
    "from sklearn.metrics import classification_report\n",
    "import seaborn as sns\n",
    "import numpy as np\n",
    "import matplotlib.pyplot as plt\n",
    "%matplotlib inline\n",
    "\n",
    "#generate confusion matrix\n",
    "sns.heatmap(confusion_matrix(Y_test,rfe.predict(X_test)), annot= True,cmap = 'coolwarm',\n",
    "            cbar_kws={'ticks': np.arange(0,90,10)},\n",
    "            vmin=0, vmax=80)\n",
    "plt.show()\n",
    "\n",
    "\n",
    "tn_test, fp_test, fn_test, tp_test = confusion_matrix(Y_test,rfe.predict(X_test)).ravel()\n",
    "print(\"From the training set confusion matrix, we know the following: \\n True Negative: {} \\n False Positive: {} \\n False Negative: {} \\n True Positive: {}\\n\"\n",
    "          .format(tn_test, fp_test, fn_test, tp_test))\n",
    "\n",
    "\n",
    "#get the classification report, y_true, y_predict\n",
    "report = (classification_report(Y_test,rfe.predict(X_test)))\n",
    "\n",
    "print(report)"
   ]
  },
  {
   "cell_type": "code",
   "execution_count": 15,
   "metadata": {
    "ExecuteTime": {
     "end_time": "2021-01-14T17:40:32.340776Z",
     "start_time": "2021-01-14T17:40:32.157646Z"
    }
   },
   "outputs": [
    {
     "data": {
      "image/png": "[encoded data removed]",
      "text/plain": [
       "<Figure size 432x288 with 1 Axes>"
      ]
     },
     "metadata": {
      "needs_background": "light"
     },
     "output_type": "display_data"
    },
    {
     "name": "stdout",
     "output_type": "stream",
     "text": [
      "The area under ROC curve (predicted probability) is 99.12%\n"
     ]
    }
   ],
   "source": [
    "from sklearn.metrics import roc_curve\n",
    "from sklearn.metrics import roc_auc_score\n",
    "\n",
    "\n",
    "##graph ROC graph- checking this allows you to tell whether logistic regression is a good approach\n",
    "y_pred_prob = logr.predict_proba(X_test)[:,1]\n",
    "\n",
    "fpr, tpr, thresholds = roc_curve(Y_test, y_pred_prob)\n",
    "\n",
    "plt.plot([0, 1], [0, 1], 'k--') #this is when true positive = false positive\n",
    "\n",
    "plt.plot(fpr, tpr, label='Logistic Regression')\n",
    "plt.xlabel('False Positive Rate')\n",
    "plt.ylabel('True Positive Rate')\n",
    "plt.title('Logistic Regression ROC Curve') \n",
    "plt.show();\n",
    "\n",
    "\n",
    "#the predicted probabiity\n",
    "roc_auc_score = roc_auc_score(Y_test, y_pred_prob) *100\n",
    "\n",
    "print(\"The area under ROC curve (predicted probability) is %.2f%%\" %roc_auc_score)"
   ]
  }
 ],
 "metadata": {
  "hide_input": false,
  "kernelspec": {
   "display_name": "Python 3",
   "language": "python",
   "name": "python3"
  },
  "language_info": {
   "codemirror_mode": {
    "name": "ipython",
    "version": 3
   },
   "file_extension": ".py",
   "mimetype": "text/x-python",
   "name": "python",
   "nbconvert_exporter": "python",
   "pygments_lexer": "ipython3",
   "version": "3.8.3"
  },
  "toc": {
   "base_numbering": 1,
   "nav_menu": {},
   "number_sections": true,
   "sideBar": true,
   "skip_h1_title": false,
   "title_cell": "Table of Contents",
   "title_sidebar": "Contents",
   "toc_cell": false,
   "toc_position": {},
   "toc_section_display": true,
   "toc_window_display": false
  }
 },
 "nbformat": 4,
 "nbformat_minor": 4
}
