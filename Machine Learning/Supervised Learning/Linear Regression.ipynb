{
 "cells": [
  {
   "cell_type": "markdown",
   "metadata": {},
   "source": [
    "## Linear Regression - Regression  - Supervised Learning\n",
    "\n",
    "using data from here: https://raw.githubusercontent.com/mdogy/dataForEng1999/master/superconductor.csv"
   ]
  },
  {
   "cell_type": "code",
   "execution_count": 18,
   "metadata": {
    "ExecuteTime": {
     "end_time": "2021-01-07T21:08:57.095663Z",
     "start_time": "2021-01-07T21:08:56.998206Z"
    }
   },
   "outputs": [],
   "source": [
    "from sklearn.datasets import fetch_california_housing\n",
    "from sklearn.model_selection import train_test_split\n",
    "from sklearn.linear_model import LinearRegression\n",
    "from sklearn.pipeline import Pipeline\n",
    "from sklearn.decomposition import PCA\n",
    "from sklearn.preprocessing import StandardScaler\n",
    "\n",
    "\n",
    "import pandas as pd\n",
    "import numpy as np\n",
    "import matplotlib.pyplot as plt\n"
   ]
  },
  {
   "cell_type": "code",
   "execution_count": 21,
   "metadata": {
    "ExecuteTime": {
     "end_time": "2021-01-07T21:12:42.918404Z",
     "start_time": "2021-01-07T21:12:39.176124Z"
    }
   },
   "outputs": [],
   "source": [
    "df3 = pd.read_csv(\"https://raw.githubusercontent.com/mdogy/dataForEng1999/master/superconductor.csv\")"
   ]
  },
  {
   "cell_type": "code",
   "execution_count": 22,
   "metadata": {
    "ExecuteTime": {
     "end_time": "2021-01-07T21:12:43.213353Z",
     "start_time": "2021-01-07T21:12:42.920227Z"
    }
   },
   "outputs": [
    {
     "data": {
      "text/html": [
       "<div>\n",
       "<style scoped>\n",
       "    .dataframe tbody tr th:only-of-type {\n",
       "        vertical-align: middle;\n",
       "    }\n",
       "\n",
       "    .dataframe tbody tr th {\n",
       "        vertical-align: top;\n",
       "    }\n",
       "\n",
       "    .dataframe thead th {\n",
       "        text-align: right;\n",
       "    }\n",
       "</style>\n",
       "<table border=\"1\" class=\"dataframe\">\n",
       "  <thead>\n",
       "    <tr style=\"text-align: right;\">\n",
       "      <th></th>\n",
       "      <th>number_of_elements</th>\n",
       "      <th>mean_atomic_mass</th>\n",
       "      <th>wtd_mean_atomic_mass</th>\n",
       "      <th>gmean_atomic_mass</th>\n",
       "      <th>wtd_gmean_atomic_mass</th>\n",
       "      <th>entropy_atomic_mass</th>\n",
       "      <th>wtd_entropy_atomic_mass</th>\n",
       "      <th>range_atomic_mass</th>\n",
       "      <th>wtd_range_atomic_mass</th>\n",
       "      <th>std_atomic_mass</th>\n",
       "      <th>...</th>\n",
       "      <th>wtd_mean_Valence</th>\n",
       "      <th>gmean_Valence</th>\n",
       "      <th>wtd_gmean_Valence</th>\n",
       "      <th>entropy_Valence</th>\n",
       "      <th>wtd_entropy_Valence</th>\n",
       "      <th>range_Valence</th>\n",
       "      <th>wtd_range_Valence</th>\n",
       "      <th>std_Valence</th>\n",
       "      <th>wtd_std_Valence</th>\n",
       "      <th>critical_temp</th>\n",
       "    </tr>\n",
       "  </thead>\n",
       "  <tbody>\n",
       "    <tr>\n",
       "      <th>count</th>\n",
       "      <td>21263.000000</td>\n",
       "      <td>21263.000000</td>\n",
       "      <td>21263.000000</td>\n",
       "      <td>21263.000000</td>\n",
       "      <td>21263.000000</td>\n",
       "      <td>21263.000000</td>\n",
       "      <td>21263.000000</td>\n",
       "      <td>21263.000000</td>\n",
       "      <td>21263.000000</td>\n",
       "      <td>21263.000000</td>\n",
       "      <td>...</td>\n",
       "      <td>21263.000000</td>\n",
       "      <td>21263.000000</td>\n",
       "      <td>21263.000000</td>\n",
       "      <td>21263.000000</td>\n",
       "      <td>21263.000000</td>\n",
       "      <td>21263.000000</td>\n",
       "      <td>21263.000000</td>\n",
       "      <td>21263.000000</td>\n",
       "      <td>21263.000000</td>\n",
       "      <td>21263.000000</td>\n",
       "    </tr>\n",
       "    <tr>\n",
       "      <th>mean</th>\n",
       "      <td>4.115224</td>\n",
       "      <td>87.557631</td>\n",
       "      <td>72.988310</td>\n",
       "      <td>71.290627</td>\n",
       "      <td>58.539916</td>\n",
       "      <td>1.165608</td>\n",
       "      <td>1.063884</td>\n",
       "      <td>115.601251</td>\n",
       "      <td>33.225218</td>\n",
       "      <td>44.391893</td>\n",
       "      <td>...</td>\n",
       "      <td>3.153127</td>\n",
       "      <td>3.056536</td>\n",
       "      <td>3.055885</td>\n",
       "      <td>1.295682</td>\n",
       "      <td>1.052841</td>\n",
       "      <td>2.041010</td>\n",
       "      <td>1.483007</td>\n",
       "      <td>0.839342</td>\n",
       "      <td>0.673987</td>\n",
       "      <td>34.421219</td>\n",
       "    </tr>\n",
       "    <tr>\n",
       "      <th>std</th>\n",
       "      <td>1.439295</td>\n",
       "      <td>29.676497</td>\n",
       "      <td>33.490406</td>\n",
       "      <td>31.030272</td>\n",
       "      <td>36.651067</td>\n",
       "      <td>0.364930</td>\n",
       "      <td>0.401423</td>\n",
       "      <td>54.626887</td>\n",
       "      <td>26.967752</td>\n",
       "      <td>20.035430</td>\n",
       "      <td>...</td>\n",
       "      <td>1.191249</td>\n",
       "      <td>1.046257</td>\n",
       "      <td>1.174815</td>\n",
       "      <td>0.393155</td>\n",
       "      <td>0.380291</td>\n",
       "      <td>1.242345</td>\n",
       "      <td>0.978176</td>\n",
       "      <td>0.484676</td>\n",
       "      <td>0.455580</td>\n",
       "      <td>34.254362</td>\n",
       "    </tr>\n",
       "    <tr>\n",
       "      <th>min</th>\n",
       "      <td>1.000000</td>\n",
       "      <td>6.941000</td>\n",
       "      <td>6.423452</td>\n",
       "      <td>5.320573</td>\n",
       "      <td>1.960849</td>\n",
       "      <td>0.000000</td>\n",
       "      <td>0.000000</td>\n",
       "      <td>0.000000</td>\n",
       "      <td>0.000000</td>\n",
       "      <td>0.000000</td>\n",
       "      <td>...</td>\n",
       "      <td>1.000000</td>\n",
       "      <td>1.000000</td>\n",
       "      <td>1.000000</td>\n",
       "      <td>0.000000</td>\n",
       "      <td>0.000000</td>\n",
       "      <td>0.000000</td>\n",
       "      <td>0.000000</td>\n",
       "      <td>0.000000</td>\n",
       "      <td>0.000000</td>\n",
       "      <td>0.000210</td>\n",
       "    </tr>\n",
       "    <tr>\n",
       "      <th>25%</th>\n",
       "      <td>3.000000</td>\n",
       "      <td>72.458076</td>\n",
       "      <td>52.143839</td>\n",
       "      <td>58.041225</td>\n",
       "      <td>35.248990</td>\n",
       "      <td>0.966676</td>\n",
       "      <td>0.775363</td>\n",
       "      <td>78.512902</td>\n",
       "      <td>16.824174</td>\n",
       "      <td>32.890369</td>\n",
       "      <td>...</td>\n",
       "      <td>2.116732</td>\n",
       "      <td>2.279705</td>\n",
       "      <td>2.091251</td>\n",
       "      <td>1.060857</td>\n",
       "      <td>0.775678</td>\n",
       "      <td>1.000000</td>\n",
       "      <td>0.921454</td>\n",
       "      <td>0.451754</td>\n",
       "      <td>0.306892</td>\n",
       "      <td>5.365000</td>\n",
       "    </tr>\n",
       "    <tr>\n",
       "      <th>50%</th>\n",
       "      <td>4.000000</td>\n",
       "      <td>84.922750</td>\n",
       "      <td>60.696571</td>\n",
       "      <td>66.361592</td>\n",
       "      <td>39.918385</td>\n",
       "      <td>1.199541</td>\n",
       "      <td>1.146783</td>\n",
       "      <td>122.906070</td>\n",
       "      <td>26.636008</td>\n",
       "      <td>45.123500</td>\n",
       "      <td>...</td>\n",
       "      <td>2.618182</td>\n",
       "      <td>2.615321</td>\n",
       "      <td>2.434057</td>\n",
       "      <td>1.368922</td>\n",
       "      <td>1.166532</td>\n",
       "      <td>2.000000</td>\n",
       "      <td>1.063077</td>\n",
       "      <td>0.800000</td>\n",
       "      <td>0.500000</td>\n",
       "      <td>20.000000</td>\n",
       "    </tr>\n",
       "    <tr>\n",
       "      <th>75%</th>\n",
       "      <td>5.000000</td>\n",
       "      <td>100.404410</td>\n",
       "      <td>86.103540</td>\n",
       "      <td>78.116681</td>\n",
       "      <td>73.113234</td>\n",
       "      <td>1.444537</td>\n",
       "      <td>1.359418</td>\n",
       "      <td>154.119320</td>\n",
       "      <td>38.356908</td>\n",
       "      <td>59.322812</td>\n",
       "      <td>...</td>\n",
       "      <td>4.026201</td>\n",
       "      <td>3.727919</td>\n",
       "      <td>3.914868</td>\n",
       "      <td>1.589027</td>\n",
       "      <td>1.330801</td>\n",
       "      <td>3.000000</td>\n",
       "      <td>1.918400</td>\n",
       "      <td>1.200000</td>\n",
       "      <td>1.020436</td>\n",
       "      <td>63.000000</td>\n",
       "    </tr>\n",
       "    <tr>\n",
       "      <th>max</th>\n",
       "      <td>9.000000</td>\n",
       "      <td>208.980400</td>\n",
       "      <td>208.980400</td>\n",
       "      <td>208.980400</td>\n",
       "      <td>208.980400</td>\n",
       "      <td>1.983797</td>\n",
       "      <td>1.958203</td>\n",
       "      <td>207.972460</td>\n",
       "      <td>205.589910</td>\n",
       "      <td>101.019700</td>\n",
       "      <td>...</td>\n",
       "      <td>7.000000</td>\n",
       "      <td>7.000000</td>\n",
       "      <td>7.000000</td>\n",
       "      <td>2.141963</td>\n",
       "      <td>1.949739</td>\n",
       "      <td>6.000000</td>\n",
       "      <td>6.992200</td>\n",
       "      <td>3.000000</td>\n",
       "      <td>3.000000</td>\n",
       "      <td>185.000000</td>\n",
       "    </tr>\n",
       "  </tbody>\n",
       "</table>\n",
       "<p>8 rows × 82 columns</p>\n",
       "</div>"
      ],
      "text/plain": [
       "       number_of_elements  mean_atomic_mass  wtd_mean_atomic_mass  \\\n",
       "count        21263.000000      21263.000000          21263.000000   \n",
       "mean             4.115224         87.557631             72.988310   \n",
       "std              1.439295         29.676497             33.490406   \n",
       "min              1.000000          6.941000              6.423452   \n",
       "25%              3.000000         72.458076             52.143839   \n",
       "50%              4.000000         84.922750             60.696571   \n",
       "75%              5.000000        100.404410             86.103540   \n",
       "max              9.000000        208.980400            208.980400   \n",
       "\n",
       "       gmean_atomic_mass  wtd_gmean_atomic_mass  entropy_atomic_mass  \\\n",
       "count       21263.000000           21263.000000         21263.000000   \n",
       "mean           71.290627              58.539916             1.165608   \n",
       "std            31.030272              36.651067             0.364930   \n",
       "min             5.320573               1.960849             0.000000   \n",
       "25%            58.041225              35.248990             0.966676   \n",
       "50%            66.361592              39.918385             1.199541   \n",
       "75%            78.116681              73.113234             1.444537   \n",
       "max           208.980400             208.980400             1.983797   \n",
       "\n",
       "       wtd_entropy_atomic_mass  range_atomic_mass  wtd_range_atomic_mass  \\\n",
       "count             21263.000000       21263.000000           21263.000000   \n",
       "mean                  1.063884         115.601251              33.225218   \n",
       "std                   0.401423          54.626887              26.967752   \n",
       "min                   0.000000           0.000000               0.000000   \n",
       "25%                   0.775363          78.512902              16.824174   \n",
       "50%                   1.146783         122.906070              26.636008   \n",
       "75%                   1.359418         154.119320              38.356908   \n",
       "max                   1.958203         207.972460             205.589910   \n",
       "\n",
       "       std_atomic_mass  ...  wtd_mean_Valence  gmean_Valence  \\\n",
       "count     21263.000000  ...      21263.000000   21263.000000   \n",
       "mean         44.391893  ...          3.153127       3.056536   \n",
       "std          20.035430  ...          1.191249       1.046257   \n",
       "min           0.000000  ...          1.000000       1.000000   \n",
       "25%          32.890369  ...          2.116732       2.279705   \n",
       "50%          45.123500  ...          2.618182       2.615321   \n",
       "75%          59.322812  ...          4.026201       3.727919   \n",
       "max         101.019700  ...          7.000000       7.000000   \n",
       "\n",
       "       wtd_gmean_Valence  entropy_Valence  wtd_entropy_Valence  range_Valence  \\\n",
       "count       21263.000000     21263.000000         21263.000000   21263.000000   \n",
       "mean            3.055885         1.295682             1.052841       2.041010   \n",
       "std             1.174815         0.393155             0.380291       1.242345   \n",
       "min             1.000000         0.000000             0.000000       0.000000   \n",
       "25%             2.091251         1.060857             0.775678       1.000000   \n",
       "50%             2.434057         1.368922             1.166532       2.000000   \n",
       "75%             3.914868         1.589027             1.330801       3.000000   \n",
       "max             7.000000         2.141963             1.949739       6.000000   \n",
       "\n",
       "       wtd_range_Valence   std_Valence  wtd_std_Valence  critical_temp  \n",
       "count       21263.000000  21263.000000     21263.000000   21263.000000  \n",
       "mean            1.483007      0.839342         0.673987      34.421219  \n",
       "std             0.978176      0.484676         0.455580      34.254362  \n",
       "min             0.000000      0.000000         0.000000       0.000210  \n",
       "25%             0.921454      0.451754         0.306892       5.365000  \n",
       "50%             1.063077      0.800000         0.500000      20.000000  \n",
       "75%             1.918400      1.200000         1.020436      63.000000  \n",
       "max             6.992200      3.000000         3.000000     185.000000  \n",
       "\n",
       "[8 rows x 82 columns]"
      ]
     },
     "execution_count": 22,
     "metadata": {},
     "output_type": "execute_result"
    }
   ],
   "source": [
    "#summary statistics\n",
    "df3.describe()"
   ]
  },
  {
   "cell_type": "markdown",
   "metadata": {},
   "source": [
    "## Reformat the data"
   ]
  },
  {
   "cell_type": "code",
   "execution_count": 23,
   "metadata": {
    "ExecuteTime": {
     "end_time": "2021-01-07T21:13:17.715124Z",
     "start_time": "2021-01-07T21:13:17.707539Z"
    }
   },
   "outputs": [],
   "source": [
    "X = df3.iloc[:,:-1]\n",
    "y = df3.iloc[:,-1]"
   ]
  },
  {
   "cell_type": "code",
   "execution_count": 24,
   "metadata": {
    "ExecuteTime": {
     "end_time": "2021-01-07T21:13:23.212152Z",
     "start_time": "2021-01-07T21:13:23.208416Z"
    }
   },
   "outputs": [
    {
     "name": "stdout",
     "output_type": "stream",
     "text": [
      "(21263, 81)\n",
      "(21263,)\n"
     ]
    }
   ],
   "source": [
    "print(X.shape)\n",
    "print(y.shape)"
   ]
  },
  {
   "cell_type": "markdown",
   "metadata": {},
   "source": [
    "## Perform a Train/Test split\n"
   ]
  },
  {
   "cell_type": "code",
   "execution_count": 25,
   "metadata": {
    "ExecuteTime": {
     "end_time": "2021-01-07T21:13:42.828853Z",
     "start_time": "2021-01-07T21:13:42.807491Z"
    }
   },
   "outputs": [],
   "source": [
    "X_train, X_test, y_train, y_test = train_test_split(X, y, test_size = 0.3, random_state=42)"
   ]
  },
  {
   "cell_type": "code",
   "execution_count": 26,
   "metadata": {
    "ExecuteTime": {
     "end_time": "2021-01-07T21:13:49.856297Z",
     "start_time": "2021-01-07T21:13:49.600251Z"
    }
   },
   "outputs": [
    {
     "data": {
      "image/png": "[encoded data removed]",
      "text/plain": [
       "<Figure size 864x360 with 2 Axes>"
      ]
     },
     "metadata": {
      "needs_background": "light"
     },
     "output_type": "display_data"
    }
   ],
   "source": [
    "#sanity check on train and test split\n",
    "fig, ax = plt.subplots(ncols =2, figsize = (12,5))\n",
    "\n",
    "ax[0].bar(height = np.array([len(X_train), len(X_test)])/np.sum(len(X_train)+len(X_test)),\n",
    "        x = ['X_Train', \"X_Test\"]\n",
    "       )\n",
    "ax[0].set_title(\"Size of X train and test\".title(), fontweight = 'bold')\n",
    "\n",
    "\n",
    "ax[1].bar(height = np.array([len(y_train), len(y_test)])/np.sum(len(y_train)+len(y_test)),\n",
    "        x = ['y_Train', \"y_Test\"]\n",
    "       )\n",
    "ax[1].set_title(\"Size of y train and test\".title(), fontweight = 'bold')\n",
    "\n",
    "plt.show()"
   ]
  },
  {
   "cell_type": "markdown",
   "metadata": {},
   "source": [
    "## Perform a linear regression on first variable (first input column) against the target. Scatter plot."
   ]
  },
  {
   "cell_type": "code",
   "execution_count": 27,
   "metadata": {
    "ExecuteTime": {
     "end_time": "2021-01-07T21:14:14.248182Z",
     "start_time": "2021-01-07T21:14:14.243992Z"
    }
   },
   "outputs": [],
   "source": [
    "from sklearn.linear_model import LinearRegression"
   ]
  },
  {
   "cell_type": "code",
   "execution_count": 39,
   "metadata": {
    "ExecuteTime": {
     "end_time": "2021-01-07T21:19:06.120125Z",
     "start_time": "2021-01-07T21:19:06.110799Z"
    }
   },
   "outputs": [
    {
     "name": "stdout",
     "output_type": "stream",
     "text": [
      "Accuracy Score of training set is 0.37%\n"
     ]
    }
   ],
   "source": [
    "# create object for the class\n",
    "lr = LinearRegression()\n",
    "\n",
    "#subset the first input column for the linear reg model\n",
    "X_train_1_col = X_train.iloc[:,0].to_numpy().reshape(-1,1)\n",
    "\n",
    "# perform linear regression on 1st input col\n",
    "lr.fit(X_train_1_col,y_train)\n",
    "\n",
    "#print the accuracy score of the training set\n",
    "acc_score_train = lr.score(X_train_1_col,y_train)\n",
    "print(\"Accuracy Score of training set is %.2f%%\" %acc_score_train)\n",
    "\n",
    "# predict\n",
    "pred_regression_line_train = lr.predict(X_train_1_col)\n"
   ]
  },
  {
   "cell_type": "code",
   "execution_count": 40,
   "metadata": {
    "ExecuteTime": {
     "end_time": "2021-01-07T21:19:07.792530Z",
     "start_time": "2021-01-07T21:19:07.613972Z"
    }
   },
   "outputs": [
    {
     "data": {
      "image/png": "[encoded data removed]",
      "text/plain": [
       "<Figure size 720x360 with 1 Axes>"
      ]
     },
     "metadata": {
      "needs_background": "light"
     },
     "output_type": "display_data"
    }
   ],
   "source": [
    "plt.figure(figsize = (10,5))\n",
    "#scatterplot the first cols vs y \n",
    "plt.scatter(X_train_1_col, y_train, marker='.', label = \"number_of_elements\") #the first input col is  number_of_elements\n",
    "\n",
    "#plot also the fitted line\n",
    "plt.plot(X_train_1_col, pred_regression_line_train,'r-', label = \"regression line\")\n",
    "plt.legend(loc = \"lower right\")\n",
    "plt.ylabel(\"Target\")\n",
    "plt.xlabel(\"number_of_elements\".title())\n",
    "plt.title(\"Training set: Linear Regression of the first variable on the target\".title(), fontweight = 'bold')\n",
    "plt.show()"
   ]
  },
  {
   "cell_type": "markdown",
   "metadata": {},
   "source": [
    "## Scatter Plot prediction\n",
    "\n",
    "Show a scatter plot of predicted value of y (from only 1 input variable) vs the actual value, for the test split only."
   ]
  },
  {
   "cell_type": "code",
   "execution_count": 41,
   "metadata": {
    "ExecuteTime": {
     "end_time": "2021-01-07T21:19:10.550668Z",
     "start_time": "2021-01-07T21:19:10.546165Z"
    }
   },
   "outputs": [],
   "source": [
    "#subset the first input column for the linear reg model\n",
    "X_test_1_col = X_test.iloc[:,0].to_numpy().reshape(-1,1)\n",
    "\n",
    "# predict on test\n",
    "pred_regression_line_test = lr.predict(X_test_1_col)"
   ]
  },
  {
   "cell_type": "code",
   "execution_count": 42,
   "metadata": {
    "ExecuteTime": {
     "end_time": "2021-01-07T21:19:12.315387Z",
     "start_time": "2021-01-07T21:19:12.156116Z"
    }
   },
   "outputs": [
    {
     "data": {
      "image/png": "[encoded data removed]",
      "text/plain": [
       "<Figure size 720x360 with 1 Axes>"
      ]
     },
     "metadata": {
      "needs_background": "light"
     },
     "output_type": "display_data"
    }
   ],
   "source": [
    "plt.figure(figsize = (10,5))\n",
    "\n",
    "#scatterplot the first cols vs y \n",
    "plt.scatter(X_test_1_col, y_test, marker='.', label = \"number_of_elements\", alpha = 0.003) #the first input col is  number_of_elements\n",
    "\n",
    "#plot also the fitted line\n",
    "plt.plot(X_test_1_col, pred_regression_line_test,'r-', label = \"regression line\")\n",
    "plt.legend(loc = \"lower right\")\n",
    "plt.ylabel(\"Target\")\n",
    "plt.xlabel(\"number_of_elements\".title())\n",
    "plt.title(\"Test Set: Linear Regression of the first variable on the target\".title(), fontweight = 'bold')\n",
    "plt.show()"
   ]
  },
  {
   "cell_type": "markdown",
   "metadata": {},
   "source": [
    "## Report mean square error and R^2"
   ]
  },
  {
   "cell_type": "code",
   "execution_count": 43,
   "metadata": {
    "ExecuteTime": {
     "end_time": "2021-01-07T21:19:14.896241Z",
     "start_time": "2021-01-07T21:19:14.892762Z"
    }
   },
   "outputs": [],
   "source": [
    "from sklearn.metrics import mean_squared_error\n",
    "from sklearn.metrics import r2_score"
   ]
  },
  {
   "cell_type": "code",
   "execution_count": 44,
   "metadata": {
    "ExecuteTime": {
     "end_time": "2021-01-07T21:19:16.027604Z",
     "start_time": "2021-01-07T21:19:16.018317Z"
    }
   },
   "outputs": [
    {
     "name": "stdout",
     "output_type": "stream",
     "text": [
      "The mean square error is: 752.11\n",
      "The R^2 is: 0.35\n"
     ]
    }
   ],
   "source": [
    "mse = mean_squared_error(y_test, pred_regression_line_test)\n",
    "print(\"The mean square error is: %.2f\"%mse)\n",
    "\n",
    "r2 = r2_score(y_test, pred_regression_line_test)\n",
    "print(\"The R^2 is: %.2f\"%r2)"
   ]
  },
  {
   "cell_type": "markdown",
   "metadata": {},
   "source": [
    "## Perform a linear regression on using all the inputs X against the target y.\n",
    "- finding: using all variables to fit the linear line results in smaller MSE and better fit"
   ]
  },
  {
   "cell_type": "code",
   "execution_count": 47,
   "metadata": {
    "ExecuteTime": {
     "end_time": "2021-01-07T21:20:03.026469Z",
     "start_time": "2021-01-07T21:20:02.964413Z"
    }
   },
   "outputs": [
    {
     "name": "stdout",
     "output_type": "stream",
     "text": [
      "Accuracy Score of training set is 0.74%\n"
     ]
    }
   ],
   "source": [
    "# create object for the class\n",
    "lr = LinearRegression()\n",
    "\n",
    "# perform linear regression on using all inputs\n",
    "lr.fit(X_train,y_train)\n",
    "\n",
    "#print the accuracy score of the training set\n",
    "acc_score_train = lr.score(X_train,y_train)\n",
    "print(\"Accuracy Score of training set is %.2f%%\" %acc_score_train)\n",
    "\n",
    "#predicted y train,test\n",
    "pred_train = lr.predict(X_train)\n",
    "pred_test = lr.predict(X_test)"
   ]
  },
  {
   "cell_type": "code",
   "execution_count": 48,
   "metadata": {
    "ExecuteTime": {
     "end_time": "2021-01-07T21:20:19.053531Z",
     "start_time": "2021-01-07T21:20:19.045996Z"
    }
   },
   "outputs": [
    {
     "name": "stdout",
     "output_type": "stream",
     "text": [
      "The mean square error is: 315.54\n",
      "The R^2 is: 0.73\n"
     ]
    }
   ],
   "source": [
    "mse = mean_squared_error(y_test, pred_test)\n",
    "print(\"The mean square error is: %.2f\"%mse)\n",
    "\n",
    "r2 = r2_score(y_test, pred_test)\n",
    "print(\"The R^2 is: %.2f\"%r2)"
   ]
  }
 ],
 "metadata": {
  "hide_input": false,
  "kernelspec": {
   "display_name": "Python 3",
   "language": "python",
   "name": "python3"
  },
  "language_info": {
   "codemirror_mode": {
    "name": "ipython",
    "version": 3
   },
   "file_extension": ".py",
   "mimetype": "text/x-python",
   "name": "python",
   "nbconvert_exporter": "python",
   "pygments_lexer": "ipython3",
   "version": "3.8.3"
  },
  "toc": {
   "base_numbering": 1,
   "nav_menu": {},
   "number_sections": true,
   "sideBar": true,
   "skip_h1_title": false,
   "title_cell": "Table of Contents",
   "title_sidebar": "Contents",
   "toc_cell": false,
   "toc_position": {},
   "toc_section_display": true,
   "toc_window_display": false
  }
 },
 "nbformat": 4,
 "nbformat_minor": 4
}
